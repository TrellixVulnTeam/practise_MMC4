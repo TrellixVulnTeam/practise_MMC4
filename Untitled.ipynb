{
 "cells": [
  {
   "cell_type": "code",
   "execution_count": 8,
   "metadata": {},
   "outputs": [
    {
     "name": "stdout",
     "output_type": "stream",
     "text": [
      "{'a': [1, 2.0, 3, (4+6j)], 'b': ('string', 'Unicode string'), 'c': None}\n",
      "[1, 2, 3]\n",
      "[1, 2, 3, [...]]\n"
     ]
    }
   ],
   "source": [
    "#!/usr/bin/python3\n",
    "import pickle\n",
    "\n",
    "# 使用pickle模块将数据对象保存到文件\n",
    "data1 = {'a': [1, 2.0, 3, 4+6j],\n",
    "         'b': ('string', u'Unicode string'),\n",
    "         'c': None}\n",
    "print(data1)\n",
    "selfref_list = [1, 2, 3]\n",
    "print(selfref_list)\n",
    "selfref_list.append(selfref_list)\n",
    "print(selfref_list)"
   ]
  },
  {
   "cell_type": "code",
   "execution_count": 30,
   "metadata": {},
   "outputs": [
    {
     "name": "stdout",
     "output_type": "stream",
     "text": [
      "1\n",
      "[1, [...]]\n",
      "[1, [...]]\n"
     ]
    }
   ],
   "source": [
    "list = [1]\n",
    "list.append(list)\n",
    "# print(list)\n",
    "# print(len(list))\n",
    "for i in list:\n",
    "    print(i)\n",
    "print(list)"
   ]
  },
  {
   "cell_type": "code",
   "execution_count": null,
   "metadata": {},
   "outputs": [],
   "source": [
    "\n",
    "output = open('data.pkl', 'wb')\n",
    "\n",
    "# Pickle dictionary using protocol 0.\n",
    "pickle.dump(data1, output)\n",
    "\n",
    "# Pickle the list using the highest protocol available.\n",
    "pickle.dump(selfref_list, output, -1)\n",
    "\n",
    "output.close()"
   ]
  }
 ],
 "metadata": {
  "kernelspec": {
   "display_name": "Python 3",
   "language": "python",
   "name": "python3"
  },
  "language_info": {
   "codemirror_mode": {
    "name": "ipython",
    "version": 3
   },
   "file_extension": ".py",
   "mimetype": "text/x-python",
   "name": "python",
   "nbconvert_exporter": "python",
   "pygments_lexer": "ipython3",
   "version": "3.7.0"
  }
 },
 "nbformat": 4,
 "nbformat_minor": 2
}
