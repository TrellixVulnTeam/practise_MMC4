{
 "cells": [
  {
   "cell_type": "code",
   "execution_count": 1,
   "metadata": {
    "scrolled": false
   },
   "outputs": [
    {
     "name": "stdout",
     "output_type": "stream",
     "text": [
      "{'classname': 'ClassA'}\n",
      "('invoke __getattr__', 'classnum')\n"
     ]
    }
   ],
   "source": [
    "class ClassA(object):\n",
    "\n",
    "    def __init__(self, classname):\n",
    "        self.classname = classname\n",
    "\n",
    "    def __getattr__(self, attr):\n",
    "        return('invoke __getattr__', attr)\n",
    "\n",
    "insA = ClassA('ClassA')\n",
    "print(insA.__dict__)\n",
    "print(insA.classnum)"
   ]
  },
  {
   "cell_type": "code",
   "execution_count": 28,
   "metadata": {},
   "outputs": [
    {
     "name": "stdout",
     "output_type": "stream",
     "text": [
      "{'classname': 'ClassA'}\n",
      "{'classname': 'ClassA', 'tag': 'insA'}\n"
     ]
    }
   ],
   "source": [
    "class ClassA(object):\n",
    "\n",
    "    def __init__(self, classname):\n",
    "        self.classname = classname\n",
    "        \n",
    "    def __setattr__(self, name, value):\n",
    "        self.__dict__[name]= value\n",
    "\n",
    "insA = ClassA('ClassA')\n",
    "\n",
    "print(insA.__dict__)\n",
    "# {'classname': 'ClassA'}\n",
    "\n",
    "insA.tag = 'insA'    \n",
    "print(insA.__dict__)"
   ]
  },
  {
   "cell_type": "code",
   "execution_count": 27,
   "metadata": {},
   "outputs": [
    {
     "name": "stdout",
     "output_type": "stream",
     "text": [
      "insA\n"
     ]
    }
   ],
   "source": [
    "print(insA.tag)"
   ]
  }
 ],
 "metadata": {
  "kernelspec": {
   "display_name": "Python 3",
   "language": "python",
   "name": "python3"
  },
  "language_info": {
   "codemirror_mode": {
    "name": "ipython",
    "version": 3
   },
   "file_extension": ".py",
   "mimetype": "text/x-python",
   "name": "python",
   "nbconvert_exporter": "python",
   "pygments_lexer": "ipython3",
   "version": "3.7.0"
  }
 },
 "nbformat": 4,
 "nbformat_minor": 2
}
