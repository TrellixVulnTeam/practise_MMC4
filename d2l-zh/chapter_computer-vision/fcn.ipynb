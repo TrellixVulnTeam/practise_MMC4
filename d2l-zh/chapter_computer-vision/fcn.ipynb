{
 "cells": [
  {
   "cell_type": "markdown",
   "metadata": {},
   "source": [
    "# 全卷积网络（FCN）\n",
    "\n",
    "我们在上节介绍了，语义分割对图像中的每个像素预测类别。全卷积网络（fully convolutional network，简称 FCN）采用卷积神经网络实现了从图像像素到像素类别的变换。与之前介绍的卷积神经网络有所不同，全卷积网络通过转置卷积（transposed convolution）层将中间层特征图的高和宽变换回输入图像的尺寸，从而令预测结果与输入图像在空间维（高和宽）上一一对应：给定空间维上的位置，通道维的输出即该位置对应像素的类别预测。\n",
    "\n",
    "我们先导入实验所需的包或模块，然后解释什么是转置卷积层。"
   ]
  },
  {
   "cell_type": "code",
   "execution_count": 1,
   "metadata": {
    "attributes": {
     "classes": [],
     "id": "",
     "n": "2"
    }
   },
   "outputs": [],
   "source": [
    "%matplotlib inline\n",
    "import gluonbook as gb\n",
    "from mxnet import gluon, image, init, nd\n",
    "from mxnet.gluon import data as gdata, loss as gloss, model_zoo, nn\n",
    "import numpy as np\n",
    "import sys"
   ]
  },
  {
   "cell_type": "markdown",
   "metadata": {},
   "source": [
    "## 转置卷积层\n",
    "\n",
    "顾名思义，转置卷积层得名于矩阵的转置操作。事实上，卷积运算还可以通过矩阵乘法来实现。在下面的例子中，我们定义高和宽分别为 4 的输入`X`，以及高和宽分别为 3 的卷积核`K`。打印二维卷积运算的输出以及卷积核。可以看到，输出的高和宽分别为 2。"
   ]
  },
  {
   "cell_type": "code",
   "execution_count": 2,
   "metadata": {},
   "outputs": [
    {
     "data": {
      "text/plain": [
       "(\n",
       " [[[[348. 393.]\n",
       "    [528. 573.]]]]\n",
       " <NDArray 1x1x2x2 @cpu(0)>, \n",
       " [[[[1. 2. 3.]\n",
       "    [4. 5. 6.]\n",
       "    [7. 8. 9.]]]]\n",
       " <NDArray 1x1x3x3 @cpu(0)>)"
      ]
     },
     "execution_count": 2,
     "metadata": {},
     "output_type": "execute_result"
    }
   ],
   "source": [
    "X = nd.arange(1, 17).reshape((1, 1, 4, 4))\n",
    "K = nd.arange(1, 10).reshape((1, 1, 3, 3))\n",
    "conv = nn.Conv2D(channels=1, kernel_size=3)\n",
    "conv.initialize(init.Constant(K))\n",
    "conv(X), K"
   ]
  },
  {
   "cell_type": "markdown",
   "metadata": {},
   "source": [
    "下面我们将卷积核`K`改写成含有大量零元素的稀疏矩阵`W`，即权重矩阵。权重矩阵的形状为（4，16），其中的非零元素来自卷积核`K`中的元素。将输入`X`逐行连结，得到长度为 16 的向量。然后将`W`与向量化的`X`做矩阵乘法，得到长度为 4 的向量。对其变形后，我们可以得到和上面卷积运算相同的结果。可见，我们在这个例子中使用矩阵乘法实现了卷积运算。"
   ]
  },
  {
   "cell_type": "code",
   "execution_count": 3,
   "metadata": {},
   "outputs": [
    {
     "data": {
      "text/plain": [
       "(\n",
       " [[[[348. 393.]\n",
       "    [528. 573.]]]]\n",
       " <NDArray 1x1x2x2 @cpu(0)>, \n",
       " [[1. 2. 3. 0. 4. 5. 6. 0. 7. 8. 9. 0. 0. 0. 0. 0.]\n",
       "  [0. 1. 2. 3. 0. 4. 5. 6. 0. 7. 8. 9. 0. 0. 0. 0.]\n",
       "  [0. 0. 0. 0. 1. 2. 3. 0. 4. 5. 6. 0. 7. 8. 9. 0.]\n",
       "  [0. 0. 0. 0. 0. 1. 2. 3. 0. 4. 5. 6. 0. 7. 8. 9.]]\n",
       " <NDArray 4x16 @cpu(0)>)"
      ]
     },
     "execution_count": 3,
     "metadata": {},
     "output_type": "execute_result"
    }
   ],
   "source": [
    "W, k = nd.zeros((4, 16)), nd.zeros(11)\n",
    "k[:3], k[4:7], k[8:] = K[0, 0, 0, :], K[0, 0, 1, :], K[0, 0, 2, :]\n",
    "W[0, 0:11], W[1, 1:12], W[2, 4:15], W[3, 5:16] = k, k, k, k\n",
    "nd.dot(W, X.reshape(16)).reshape((1, 1, 2, 2)), W"
   ]
  },
  {
   "cell_type": "markdown",
   "metadata": {},
   "source": [
    "现在我们从矩阵乘法的角度来描述卷积运算。设输入向量为 $\\boldsymbol{x}$，权重矩阵为 $\\boldsymbol{W}$，卷积的前向计算函数的实现可以看作将函数输入乘以权重矩阵，并输出向量 $\\boldsymbol{y} = \\boldsymbol{W}\\boldsymbol{x}$。我们知道，反向传播需要依据链式法则。由于 $\\nabla_{\\boldsymbol{x}} \\boldsymbol{y} = \\boldsymbol{W}^\\top$，卷积的反向传播函数的实现可以看作将函数输入乘以转置后的权重矩阵 $\\boldsymbol{W}^\\top$。而转置卷积层正是交换了卷积层的前向计算函数与反向传播函数：这两个函数可以看作将函数输入向量分别乘以 $\\boldsymbol{W}^\\top$ 和 $\\boldsymbol{W}$。\n",
    "\n",
    "不难想象，转置卷积层可以用来交换卷积层输入和输出的形状。让我们继续用矩阵乘法描述卷积。设权重矩阵是形状为 $4\\times16$ 的矩阵，对于长度为 16 的输入向量，卷积前向计算输出长度为 4 的向量。假如输入向量的长度为 4，转置权重矩阵的形状为 $16\\times4$，那么转置卷积层将输出长度为 16 的向量。在模型设计中，转置卷积层常用于将较小的特征图变换为更大的特征图。在全卷积网络中，当输入是高和宽较小的特征图时，转置卷积层可以用来将高和宽放大到输入图像的尺寸。\n",
    "\n",
    "我们来看一个例子。构造一个卷积层`conv`，并设输入`X`的形状为（1，3，64，64）。卷积输出`Y`的通道数增加到 10，但高和宽分别缩小了一半。"
   ]
  },
  {
   "cell_type": "code",
   "execution_count": 4,
   "metadata": {
    "attributes": {
     "classes": [],
     "id": "",
     "n": "3"
    }
   },
   "outputs": [
    {
     "data": {
      "text/plain": [
       "(1, 10, 32, 32)"
      ]
     },
     "execution_count": 4,
     "metadata": {},
     "output_type": "execute_result"
    }
   ],
   "source": [
    "conv = nn.Conv2D(10, kernel_size=4, padding=1, strides=2)\n",
    "conv.initialize()\n",
    "\n",
    "X = nd.random.uniform(shape=(1, 3, 64, 64))\n",
    "Y = conv(X)\n",
    "Y.shape"
   ]
  },
  {
   "cell_type": "markdown",
   "metadata": {},
   "source": [
    "下面我们通过创建`Conv2DTranspose`实例来构造转置卷积层`conv_trans`。这里我们设`conv_trans`的卷积核形状、填充以及步幅与`conv`中的相同，并设输出通道数为 3。当输入为卷积层`conv`的输出`Y`时，转置卷积层输出与卷积层输入的高和宽相同：转置卷积层将特征图的高和宽分别放大了 2 倍。"
   ]
  },
  {
   "cell_type": "code",
   "execution_count": 5,
   "metadata": {
    "attributes": {
     "classes": [],
     "id": "",
     "n": "4"
    }
   },
   "outputs": [
    {
     "data": {
      "text/plain": [
       "(1, 3, 64, 64)"
      ]
     },
     "execution_count": 5,
     "metadata": {},
     "output_type": "execute_result"
    }
   ],
   "source": [
    "conv_trans = nn.Conv2DTranspose(3, kernel_size=4, padding=1, strides=2)\n",
    "conv_trans.initialize()\n",
    "conv_trans(Y).shape"
   ]
  },
  {
   "cell_type": "markdown",
   "metadata": {},
   "source": [
    "在有些文献中，转置卷积也被称为分数步卷积（fractionally-strided convolution）[2]。\n",
    "\n",
    "\n",
    "## 构造模型\n",
    "\n",
    "我们在这里给出全卷积网络模型最基本的设计。如图 9.11 所示，全卷积网络先使用卷积神经网络抽取图像特征，然后通过 $1\\times 1$ 卷积层将通道数变换为类别个数，最后通过转置卷积层将特征图的高和宽变换为输入图像的尺寸。模型输出与输入图像的高和宽相同，并在空间位置上一一对应：最终输出的通道包含了该空间位置像素的类别预测。\n",
    "\n",
    "![全卷积网络。](../img/fcn.svg)\n",
    "\n",
    "下面我们使用一个基于 ImageNet 数据集预训练的 ResNet-18 模型来抽取图像特征，并将该网络实例记为`pretrained_net`。可以看到，该模型成员变量`features`的最后两层分别是全局最大池化层`GlobalAvgPool2D`和样本变平层`Flatten`，而`output`模块包含了输出用的全连接层。全卷积网络不需要使用这些层。"
   ]
  },
  {
   "cell_type": "code",
   "execution_count": 6,
   "metadata": {
    "attributes": {
     "classes": [],
     "id": "",
     "n": "5"
    }
   },
   "outputs": [
    {
     "data": {
      "text/plain": [
       "([BatchNorm(axis=1, eps=1e-05, momentum=0.9, fix_gamma=False, use_global_stats=False, in_channels=512),\n",
       "  Activation(relu),\n",
       "  GlobalAvgPool2D(size=(1, 1), stride=(1, 1), padding=(0, 0), ceil_mode=True),\n",
       "  Flatten],\n",
       " Dense(512 -> 1000, linear))"
      ]
     },
     "execution_count": 6,
     "metadata": {},
     "output_type": "execute_result"
    }
   ],
   "source": [
    "pretrained_net = model_zoo.vision.resnet18_v2(pretrained=True)\n",
    "pretrained_net.features[-4:], pretrained_net.output"
   ]
  },
  {
   "cell_type": "markdown",
   "metadata": {},
   "source": [
    "下面我们创建全卷积网络实例`net`。它复制了`pretrained_net`实例成员变量`features`里除去最后两层的所有神经层以及预训练得到的模型参数。"
   ]
  },
  {
   "cell_type": "code",
   "execution_count": 7,
   "metadata": {
    "attributes": {
     "classes": [],
     "id": "",
     "n": "6"
    }
   },
   "outputs": [],
   "source": [
    "net = nn.HybridSequential()\n",
    "for layer in pretrained_net.features[:-2]:\n",
    "    net.add(layer)"
   ]
  },
  {
   "cell_type": "markdown",
   "metadata": {},
   "source": [
    "给定高和宽分别为 320 和 480 的输入，`net`的前向计算将输入的高和宽减小至原来的 $1/32$，即 10 和 15。"
   ]
  },
  {
   "cell_type": "code",
   "execution_count": 8,
   "metadata": {
    "attributes": {
     "classes": [],
     "id": "",
     "n": "7"
    }
   },
   "outputs": [
    {
     "data": {
      "text/plain": [
       "(1, 512, 10, 15)"
      ]
     },
     "execution_count": 8,
     "metadata": {},
     "output_type": "execute_result"
    }
   ],
   "source": [
    "X = nd.random.uniform(shape=(1, 3, 320, 480))\n",
    "net(X).shape"
   ]
  },
  {
   "cell_type": "markdown",
   "metadata": {},
   "source": [
    "接下来，我们通过 $1\\times 1$ 卷积层将输出通道数变换为 Pascal VOC2012 的类别个数 21。最后，我们需要将特征图的高和宽放大 32 倍，从而变回输入图像的高和宽。回忆一下[“填充和步幅”](../chapter_convolutional-neural-networks/padding-and-strides.md)一节中描述的卷积层输出形状的计算方法。由于 $(320-64+16\\times2+32)/32=10$ 且 $(480-64+16\\times2+32)/32=15$，我们构造一个步幅为 32 的转置卷积层，并将卷积核的高和宽设为 64、填充设为 16。不难发现，如果步幅为 $s$、填充为 $s/2$（假设 $s/2$ 为整数）、卷积核的高和宽为 $2s$，转置卷积核将输入的高和宽分别放大 $s$ 倍。"
   ]
  },
  {
   "cell_type": "code",
   "execution_count": 9,
   "metadata": {
    "attributes": {
     "classes": [],
     "id": "",
     "n": "8"
    }
   },
   "outputs": [],
   "source": [
    "num_classes = 21\n",
    "net.add(nn.Conv2D(num_classes, kernel_size=1),\n",
    "        nn.Conv2DTranspose(num_classes, kernel_size=64, padding=16,\n",
    "                           strides=32))"
   ]
  },
  {
   "cell_type": "markdown",
   "metadata": {},
   "source": [
    "## 初始化转置卷积层\n",
    "\n",
    "我们已经知道，转置卷积层可以放大特征图。在图像处理中，我们有时需要将图像放大，即上采样（upsample）。上采样的方法有很多，常用的有双线性插值。简单来说，为了得到输出图像在坐标 $(x,y)$ 上的像素，先将该坐标映射到输入图像的坐标 $(x',y')$，例如根据输入与输出的尺寸之比来映射。映射后的 $x'$ 和 $y'$ 通常是实数。然后，在输入图像上找到与坐标 $(x',y')$ 最近的四个像素。最后，输出图像在坐标 $(x,y)$ 上的像素依据输入图像上这四个像素及其与 $(x',y')$ 的相对距离来计算。双线性插值的上采样可以通过由以下`bilinear_kernel`函数构造的卷积核的转置卷积层来实现。限于篇幅，我们只给出`bilinear_kernel`函数的实现，不再讨论算法的原理。"
   ]
  },
  {
   "cell_type": "code",
   "execution_count": 10,
   "metadata": {
    "attributes": {
     "classes": [],
     "id": "",
     "n": "9"
    }
   },
   "outputs": [],
   "source": [
    "def bilinear_kernel(in_channels, out_channels, kernel_size):\n",
    "    factor = (kernel_size + 1) // 2\n",
    "    if kernel_size % 2 == 1:\n",
    "        center = factor - 1\n",
    "    else:\n",
    "        center = factor - 0.5\n",
    "    og = np.ogrid[:kernel_size, :kernel_size]\n",
    "    filt = (1 - abs(og[0] - center) / factor) * \\\n",
    "           (1 - abs(og[1] - center) / factor)\n",
    "    weight = np.zeros((in_channels, out_channels, kernel_size, kernel_size),\n",
    "                      dtype='float32')\n",
    "    weight[range(in_channels), range(out_channels), :, :] = filt\n",
    "    return nd.array(weight)"
   ]
  },
  {
   "cell_type": "markdown",
   "metadata": {},
   "source": [
    "我们来实验一下用转置卷积层实现的双线性插值上采样。构造一个将输入的高和宽放大 2 倍的转置卷积层，并将其卷积核用`bilinear_kernel`函数初始化。"
   ]
  },
  {
   "cell_type": "code",
   "execution_count": 11,
   "metadata": {
    "attributes": {
     "classes": [],
     "id": "",
     "n": "11"
    }
   },
   "outputs": [],
   "source": [
    "conv_trans = nn.Conv2DTranspose(3, kernel_size=4, padding=1, strides=2)\n",
    "conv_trans.initialize(init.Constant(bilinear_kernel(3, 3, 4)))"
   ]
  },
  {
   "cell_type": "markdown",
   "metadata": {},
   "source": [
    "读取图像`X`，将上采样的结果记作`Y`。为了打印图像，我们需要调整通道维的位置。"
   ]
  },
  {
   "cell_type": "code",
   "execution_count": 12,
   "metadata": {},
   "outputs": [],
   "source": [
    "img = image.imread('../img/catdog.jpg')\n",
    "X = img.astype('float32').transpose((2, 0, 1)).expand_dims(axis=0) / 255\n",
    "Y = conv_trans(X)\n",
    "out_img = Y[0].transpose((1, 2, 0))"
   ]
  },
  {
   "cell_type": "markdown",
   "metadata": {},
   "source": [
    "可以看到，转置卷积层将图像的高和宽分别放大 2 倍。值得一提的是，除了坐标刻度不同，双线性插值放大的图像和[“目标检测和边界框”](bounding-box.md)一节中打印出的原图看上去没什么两样。"
   ]
  },
  {
   "cell_type": "code",
   "execution_count": 13,
   "metadata": {},
   "outputs": [
    {
     "name": "stdout",
     "output_type": "stream",
     "text": [
      "input image shape: (561, 728, 3)\n",
      "output image shape: (1122, 1456, 3)\n"
     ]
    },
    {
     "data": {
      "image/svg+xml": [
       "<?xml version=\"1.0\" encoding=\"utf-8\" standalone=\"no\"?>\n",
       "<!DOCTYPE svg PUBLIC \"-//W3C//DTD SVG 1.1//EN\"\n",
       "  \"http://www.w3.org/Graphics/SVG/1.1/DTD/svg11.dtd\">\n",
       "<!-- Created with matplotlib (http://matplotlib.org/) -->\n",
       "<svg height=\"170.716782pt\" version=\"1.1\" viewBox=\"0 0 226.70508 170.716782\" width=\"226.70508pt\" xmlns=\"http://www.w3.org/2000/svg\" xmlns:xlink=\"http://www.w3.org/1999/xlink\">\n",
       " <defs>\n",
       "  <style type=\"text/css\">\n",
       "*{stroke-linecap:butt;stroke-linejoin:round;}\n",
       "  </style>\n",
       " </defs>\n",
       " <g id=\"figure_1\">\n",
       "  <g id=\"patch_1\">\n",
       "   <path d=\"M 0 170.716782 \n",
       "L 226.70508 170.716782 \n",
       "L 226.70508 0 \n",
       "L 0 0 \n",
       "z\n",
       "\" style=\"fill:none;\"/>\n",
       "  </g>\n",
       "  <g id=\"axes_1\">\n",
       "   <g id=\"patch_2\">\n",
       "    <path d=\"M 39.65 146.838657 \n",
       "L 216.00508 146.838657 \n",
       "L 216.00508 10.938657 \n",
       "L 39.65 10.938657 \n",
       "z\n",
       "\" style=\"fill:#ffffff;\"/>\n",
       "   </g>\n",
       "   <g clip-path=\"url(#p4a889f0312)\">\n",
       "    <image height=\"136\" id=\"image8f61476a5c\" transform=\"scale(1 -1)translate(0 -136)\" width=\"177\" x=\"40\" xlink:href=\"data:image/png;base64,\n",
       "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\" y=\"-10.716782\"/>\n",
       "   </g>\n",
       "   <g id=\"matplotlib.axis_1\">\n",
       "    <g id=\"xtick_1\">\n",
       "     <g id=\"line2d_1\">\n",
       "      <defs>\n",
       "       <path d=\"M 0 0 \n",
       "L 0 3.5 \n",
       "\" id=\"m7b2de1c19e\" style=\"stroke:#000000;stroke-width:0.8;\"/>\n",
       "      </defs>\n",
       "      <g>\n",
       "       <use style=\"stroke:#000000;stroke-width:0.8;\" x=\"39.710561\" xlink:href=\"#m7b2de1c19e\" y=\"146.838657\"/>\n",
       "      </g>\n",
       "     </g>\n",
       "     <g id=\"text_1\">\n",
       "      <!-- 0 -->\n",
       "      <defs>\n",
       "       <path d=\"M 31.78125 66.40625 \n",
       "Q 24.171875 66.40625 20.328125 58.90625 \n",
       "Q 16.5 51.421875 16.5 36.375 \n",
       "Q 16.5 21.390625 20.328125 13.890625 \n",
       "Q 24.171875 6.390625 31.78125 6.390625 \n",
       "Q 39.453125 6.390625 43.28125 13.890625 \n",
       "Q 47.125 21.390625 47.125 36.375 \n",
       "Q 47.125 51.421875 43.28125 58.90625 \n",
       "Q 39.453125 66.40625 31.78125 66.40625 \n",
       "z\n",
       "M 31.78125 74.21875 \n",
       "Q 44.046875 74.21875 50.515625 64.515625 \n",
       "Q 56.984375 54.828125 56.984375 36.375 \n",
       "Q 56.984375 17.96875 50.515625 8.265625 \n",
       "Q 44.046875 -1.421875 31.78125 -1.421875 \n",
       "Q 19.53125 -1.421875 13.0625 8.265625 \n",
       "Q 6.59375 17.96875 6.59375 36.375 \n",
       "Q 6.59375 54.828125 13.0625 64.515625 \n",
       "Q 19.53125 74.21875 31.78125 74.21875 \n",
       "z\n",
       "\" id=\"DejaVuSans-30\"/>\n",
       "      </defs>\n",
       "      <g transform=\"translate(36.529311 161.437095)scale(0.1 -0.1)\">\n",
       "       <use xlink:href=\"#DejaVuSans-30\"/>\n",
       "      </g>\n",
       "     </g>\n",
       "    </g>\n",
       "    <g id=\"xtick_2\">\n",
       "     <g id=\"line2d_2\">\n",
       "      <g>\n",
       "       <use style=\"stroke:#000000;stroke-width:0.8;\" x=\"100.272059\" xlink:href=\"#m7b2de1c19e\" y=\"146.838657\"/>\n",
       "      </g>\n",
       "     </g>\n",
       "     <g id=\"text_2\">\n",
       "      <!-- 500 -->\n",
       "      <defs>\n",
       "       <path d=\"M 10.796875 72.90625 \n",
       "L 49.515625 72.90625 \n",
       "L 49.515625 64.59375 \n",
       "L 19.828125 64.59375 \n",
       "L 19.828125 46.734375 \n",
       "Q 21.96875 47.46875 24.109375 47.828125 \n",
       "Q 26.265625 48.1875 28.421875 48.1875 \n",
       "Q 40.625 48.1875 47.75 41.5 \n",
       "Q 54.890625 34.8125 54.890625 23.390625 \n",
       "Q 54.890625 11.625 47.5625 5.09375 \n",
       "Q 40.234375 -1.421875 26.90625 -1.421875 \n",
       "Q 22.3125 -1.421875 17.546875 -0.640625 \n",
       "Q 12.796875 0.140625 7.71875 1.703125 \n",
       "L 7.71875 11.625 \n",
       "Q 12.109375 9.234375 16.796875 8.0625 \n",
       "Q 21.484375 6.890625 26.703125 6.890625 \n",
       "Q 35.15625 6.890625 40.078125 11.328125 \n",
       "Q 45.015625 15.765625 45.015625 23.390625 \n",
       "Q 45.015625 31 40.078125 35.4375 \n",
       "Q 35.15625 39.890625 26.703125 39.890625 \n",
       "Q 22.75 39.890625 18.8125 39.015625 \n",
       "Q 14.890625 38.140625 10.796875 36.28125 \n",
       "z\n",
       "\" id=\"DejaVuSans-35\"/>\n",
       "      </defs>\n",
       "      <g transform=\"translate(90.728309 161.437095)scale(0.1 -0.1)\">\n",
       "       <use xlink:href=\"#DejaVuSans-35\"/>\n",
       "       <use x=\"63.623047\" xlink:href=\"#DejaVuSans-30\"/>\n",
       "       <use x=\"127.246094\" xlink:href=\"#DejaVuSans-30\"/>\n",
       "      </g>\n",
       "     </g>\n",
       "    </g>\n",
       "    <g id=\"xtick_3\">\n",
       "     <g id=\"line2d_3\">\n",
       "      <g>\n",
       "       <use style=\"stroke:#000000;stroke-width:0.8;\" x=\"160.833556\" xlink:href=\"#m7b2de1c19e\" y=\"146.838657\"/>\n",
       "      </g>\n",
       "     </g>\n",
       "     <g id=\"text_3\">\n",
       "      <!-- 1000 -->\n",
       "      <defs>\n",
       "       <path d=\"M 12.40625 8.296875 \n",
       "L 28.515625 8.296875 \n",
       "L 28.515625 63.921875 \n",
       "L 10.984375 60.40625 \n",
       "L 10.984375 69.390625 \n",
       "L 28.421875 72.90625 \n",
       "L 38.28125 72.90625 \n",
       "L 38.28125 8.296875 \n",
       "L 54.390625 8.296875 \n",
       "L 54.390625 0 \n",
       "L 12.40625 0 \n",
       "z\n",
       "\" id=\"DejaVuSans-31\"/>\n",
       "      </defs>\n",
       "      <g transform=\"translate(148.108556 161.437095)scale(0.1 -0.1)\">\n",
       "       <use xlink:href=\"#DejaVuSans-31\"/>\n",
       "       <use x=\"63.623047\" xlink:href=\"#DejaVuSans-30\"/>\n",
       "       <use x=\"127.246094\" xlink:href=\"#DejaVuSans-30\"/>\n",
       "       <use x=\"190.869141\" xlink:href=\"#DejaVuSans-30\"/>\n",
       "      </g>\n",
       "     </g>\n",
       "    </g>\n",
       "   </g>\n",
       "   <g id=\"matplotlib.axis_2\">\n",
       "    <g id=\"ytick_1\">\n",
       "     <g id=\"line2d_4\">\n",
       "      <defs>\n",
       "       <path d=\"M 0 0 \n",
       "L -3.5 0 \n",
       "\" id=\"m31b44774e7\" style=\"stroke:#000000;stroke-width:0.8;\"/>\n",
       "      </defs>\n",
       "      <g>\n",
       "       <use style=\"stroke:#000000;stroke-width:0.8;\" x=\"39.65\" xlink:href=\"#m31b44774e7\" y=\"10.999219\"/>\n",
       "      </g>\n",
       "     </g>\n",
       "     <g id=\"text_4\">\n",
       "      <!-- 0 -->\n",
       "      <g transform=\"translate(26.2875 14.798437)scale(0.1 -0.1)\">\n",
       "       <use xlink:href=\"#DejaVuSans-30\"/>\n",
       "      </g>\n",
       "     </g>\n",
       "    </g>\n",
       "    <g id=\"ytick_2\">\n",
       "     <g id=\"line2d_5\">\n",
       "      <g>\n",
       "       <use style=\"stroke:#000000;stroke-width:0.8;\" x=\"39.65\" xlink:href=\"#m31b44774e7\" y=\"35.223818\"/>\n",
       "      </g>\n",
       "     </g>\n",
       "     <g id=\"text_5\">\n",
       "      <!-- 200 -->\n",
       "      <defs>\n",
       "       <path d=\"M 19.1875 8.296875 \n",
       "L 53.609375 8.296875 \n",
       "L 53.609375 0 \n",
       "L 7.328125 0 \n",
       "L 7.328125 8.296875 \n",
       "Q 12.9375 14.109375 22.625 23.890625 \n",
       "Q 32.328125 33.6875 34.8125 36.53125 \n",
       "Q 39.546875 41.84375 41.421875 45.53125 \n",
       "Q 43.3125 49.21875 43.3125 52.78125 \n",
       "Q 43.3125 58.59375 39.234375 62.25 \n",
       "Q 35.15625 65.921875 28.609375 65.921875 \n",
       "Q 23.96875 65.921875 18.8125 64.3125 \n",
       "Q 13.671875 62.703125 7.8125 59.421875 \n",
       "L 7.8125 69.390625 \n",
       "Q 13.765625 71.78125 18.9375 73 \n",
       "Q 24.125 74.21875 28.421875 74.21875 \n",
       "Q 39.75 74.21875 46.484375 68.546875 \n",
       "Q 53.21875 62.890625 53.21875 53.421875 \n",
       "Q 53.21875 48.921875 51.53125 44.890625 \n",
       "Q 49.859375 40.875 45.40625 35.40625 \n",
       "Q 44.1875 33.984375 37.640625 27.21875 \n",
       "Q 31.109375 20.453125 19.1875 8.296875 \n",
       "z\n",
       "\" id=\"DejaVuSans-32\"/>\n",
       "      </defs>\n",
       "      <g transform=\"translate(13.5625 39.023036)scale(0.1 -0.1)\">\n",
       "       <use xlink:href=\"#DejaVuSans-32\"/>\n",
       "       <use x=\"63.623047\" xlink:href=\"#DejaVuSans-30\"/>\n",
       "       <use x=\"127.246094\" xlink:href=\"#DejaVuSans-30\"/>\n",
       "      </g>\n",
       "     </g>\n",
       "    </g>\n",
       "    <g id=\"ytick_3\">\n",
       "     <g id=\"line2d_6\">\n",
       "      <g>\n",
       "       <use style=\"stroke:#000000;stroke-width:0.8;\" x=\"39.65\" xlink:href=\"#m31b44774e7\" y=\"59.448417\"/>\n",
       "      </g>\n",
       "     </g>\n",
       "     <g id=\"text_6\">\n",
       "      <!-- 400 -->\n",
       "      <defs>\n",
       "       <path d=\"M 37.796875 64.3125 \n",
       "L 12.890625 25.390625 \n",
       "L 37.796875 25.390625 \n",
       "z\n",
       "M 35.203125 72.90625 \n",
       "L 47.609375 72.90625 \n",
       "L 47.609375 25.390625 \n",
       "L 58.015625 25.390625 \n",
       "L 58.015625 17.1875 \n",
       "L 47.609375 17.1875 \n",
       "L 47.609375 0 \n",
       "L 37.796875 0 \n",
       "L 37.796875 17.1875 \n",
       "L 4.890625 17.1875 \n",
       "L 4.890625 26.703125 \n",
       "z\n",
       "\" id=\"DejaVuSans-34\"/>\n",
       "      </defs>\n",
       "      <g transform=\"translate(13.5625 63.247635)scale(0.1 -0.1)\">\n",
       "       <use xlink:href=\"#DejaVuSans-34\"/>\n",
       "       <use x=\"63.623047\" xlink:href=\"#DejaVuSans-30\"/>\n",
       "       <use x=\"127.246094\" xlink:href=\"#DejaVuSans-30\"/>\n",
       "      </g>\n",
       "     </g>\n",
       "    </g>\n",
       "    <g id=\"ytick_4\">\n",
       "     <g id=\"line2d_7\">\n",
       "      <g>\n",
       "       <use style=\"stroke:#000000;stroke-width:0.8;\" x=\"39.65\" xlink:href=\"#m31b44774e7\" y=\"83.673016\"/>\n",
       "      </g>\n",
       "     </g>\n",
       "     <g id=\"text_7\">\n",
       "      <!-- 600 -->\n",
       "      <defs>\n",
       "       <path d=\"M 33.015625 40.375 \n",
       "Q 26.375 40.375 22.484375 35.828125 \n",
       "Q 18.609375 31.296875 18.609375 23.390625 \n",
       "Q 18.609375 15.53125 22.484375 10.953125 \n",
       "Q 26.375 6.390625 33.015625 6.390625 \n",
       "Q 39.65625 6.390625 43.53125 10.953125 \n",
       "Q 47.40625 15.53125 47.40625 23.390625 \n",
       "Q 47.40625 31.296875 43.53125 35.828125 \n",
       "Q 39.65625 40.375 33.015625 40.375 \n",
       "z\n",
       "M 52.59375 71.296875 \n",
       "L 52.59375 62.3125 \n",
       "Q 48.875 64.0625 45.09375 64.984375 \n",
       "Q 41.3125 65.921875 37.59375 65.921875 \n",
       "Q 27.828125 65.921875 22.671875 59.328125 \n",
       "Q 17.53125 52.734375 16.796875 39.40625 \n",
       "Q 19.671875 43.65625 24.015625 45.921875 \n",
       "Q 28.375 48.1875 33.59375 48.1875 \n",
       "Q 44.578125 48.1875 50.953125 41.515625 \n",
       "Q 57.328125 34.859375 57.328125 23.390625 \n",
       "Q 57.328125 12.15625 50.6875 5.359375 \n",
       "Q 44.046875 -1.421875 33.015625 -1.421875 \n",
       "Q 20.359375 -1.421875 13.671875 8.265625 \n",
       "Q 6.984375 17.96875 6.984375 36.375 \n",
       "Q 6.984375 53.65625 15.1875 63.9375 \n",
       "Q 23.390625 74.21875 37.203125 74.21875 \n",
       "Q 40.921875 74.21875 44.703125 73.484375 \n",
       "Q 48.484375 72.75 52.59375 71.296875 \n",
       "z\n",
       "\" id=\"DejaVuSans-36\"/>\n",
       "      </defs>\n",
       "      <g transform=\"translate(13.5625 87.472234)scale(0.1 -0.1)\">\n",
       "       <use xlink:href=\"#DejaVuSans-36\"/>\n",
       "       <use x=\"63.623047\" xlink:href=\"#DejaVuSans-30\"/>\n",
       "       <use x=\"127.246094\" xlink:href=\"#DejaVuSans-30\"/>\n",
       "      </g>\n",
       "     </g>\n",
       "    </g>\n",
       "    <g id=\"ytick_5\">\n",
       "     <g id=\"line2d_8\">\n",
       "      <g>\n",
       "       <use style=\"stroke:#000000;stroke-width:0.8;\" x=\"39.65\" xlink:href=\"#m31b44774e7\" y=\"107.897614\"/>\n",
       "      </g>\n",
       "     </g>\n",
       "     <g id=\"text_8\">\n",
       "      <!-- 800 -->\n",
       "      <defs>\n",
       "       <path d=\"M 31.78125 34.625 \n",
       "Q 24.75 34.625 20.71875 30.859375 \n",
       "Q 16.703125 27.09375 16.703125 20.515625 \n",
       "Q 16.703125 13.921875 20.71875 10.15625 \n",
       "Q 24.75 6.390625 31.78125 6.390625 \n",
       "Q 38.8125 6.390625 42.859375 10.171875 \n",
       "Q 46.921875 13.96875 46.921875 20.515625 \n",
       "Q 46.921875 27.09375 42.890625 30.859375 \n",
       "Q 38.875 34.625 31.78125 34.625 \n",
       "z\n",
       "M 21.921875 38.8125 \n",
       "Q 15.578125 40.375 12.03125 44.71875 \n",
       "Q 8.5 49.078125 8.5 55.328125 \n",
       "Q 8.5 64.0625 14.71875 69.140625 \n",
       "Q 20.953125 74.21875 31.78125 74.21875 \n",
       "Q 42.671875 74.21875 48.875 69.140625 \n",
       "Q 55.078125 64.0625 55.078125 55.328125 \n",
       "Q 55.078125 49.078125 51.53125 44.71875 \n",
       "Q 48 40.375 41.703125 38.8125 \n",
       "Q 48.828125 37.15625 52.796875 32.3125 \n",
       "Q 56.78125 27.484375 56.78125 20.515625 \n",
       "Q 56.78125 9.90625 50.3125 4.234375 \n",
       "Q 43.84375 -1.421875 31.78125 -1.421875 \n",
       "Q 19.734375 -1.421875 13.25 4.234375 \n",
       "Q 6.78125 9.90625 6.78125 20.515625 \n",
       "Q 6.78125 27.484375 10.78125 32.3125 \n",
       "Q 14.796875 37.15625 21.921875 38.8125 \n",
       "z\n",
       "M 18.3125 54.390625 \n",
       "Q 18.3125 48.734375 21.84375 45.5625 \n",
       "Q 25.390625 42.390625 31.78125 42.390625 \n",
       "Q 38.140625 42.390625 41.71875 45.5625 \n",
       "Q 45.3125 48.734375 45.3125 54.390625 \n",
       "Q 45.3125 60.0625 41.71875 63.234375 \n",
       "Q 38.140625 66.40625 31.78125 66.40625 \n",
       "Q 25.390625 66.40625 21.84375 63.234375 \n",
       "Q 18.3125 60.0625 18.3125 54.390625 \n",
       "z\n",
       "\" id=\"DejaVuSans-38\"/>\n",
       "      </defs>\n",
       "      <g transform=\"translate(13.5625 111.696833)scale(0.1 -0.1)\">\n",
       "       <use xlink:href=\"#DejaVuSans-38\"/>\n",
       "       <use x=\"63.623047\" xlink:href=\"#DejaVuSans-30\"/>\n",
       "       <use x=\"127.246094\" xlink:href=\"#DejaVuSans-30\"/>\n",
       "      </g>\n",
       "     </g>\n",
       "    </g>\n",
       "    <g id=\"ytick_6\">\n",
       "     <g id=\"line2d_9\">\n",
       "      <g>\n",
       "       <use style=\"stroke:#000000;stroke-width:0.8;\" x=\"39.65\" xlink:href=\"#m31b44774e7\" y=\"132.122213\"/>\n",
       "      </g>\n",
       "     </g>\n",
       "     <g id=\"text_9\">\n",
       "      <!-- 1000 -->\n",
       "      <g transform=\"translate(7.2 135.921432)scale(0.1 -0.1)\">\n",
       "       <use xlink:href=\"#DejaVuSans-31\"/>\n",
       "       <use x=\"63.623047\" xlink:href=\"#DejaVuSans-30\"/>\n",
       "       <use x=\"127.246094\" xlink:href=\"#DejaVuSans-30\"/>\n",
       "       <use x=\"190.869141\" xlink:href=\"#DejaVuSans-30\"/>\n",
       "      </g>\n",
       "     </g>\n",
       "    </g>\n",
       "   </g>\n",
       "   <g id=\"patch_3\">\n",
       "    <path d=\"M 39.65 146.838657 \n",
       "L 39.65 10.938657 \n",
       "\" style=\"fill:none;stroke:#000000;stroke-linecap:square;stroke-linejoin:miter;stroke-width:0.8;\"/>\n",
       "   </g>\n",
       "   <g id=\"patch_4\">\n",
       "    <path d=\"M 216.00508 146.838657 \n",
       "L 216.00508 10.938657 \n",
       "\" style=\"fill:none;stroke:#000000;stroke-linecap:square;stroke-linejoin:miter;stroke-width:0.8;\"/>\n",
       "   </g>\n",
       "   <g id=\"patch_5\">\n",
       "    <path d=\"M 39.65 146.838657 \n",
       "L 216.00508 146.838657 \n",
       "\" style=\"fill:none;stroke:#000000;stroke-linecap:square;stroke-linejoin:miter;stroke-width:0.8;\"/>\n",
       "   </g>\n",
       "   <g id=\"patch_6\">\n",
       "    <path d=\"M 39.65 10.938657 \n",
       "L 216.00508 10.938657 \n",
       "\" style=\"fill:none;stroke:#000000;stroke-linecap:square;stroke-linejoin:miter;stroke-width:0.8;\"/>\n",
       "   </g>\n",
       "  </g>\n",
       " </g>\n",
       " <defs>\n",
       "  <clipPath id=\"p4a889f0312\">\n",
       "   <rect height=\"135.9\" width=\"176.35508\" x=\"39.65\" y=\"10.938657\"/>\n",
       "  </clipPath>\n",
       " </defs>\n",
       "</svg>\n"
      ],
      "text/plain": [
       "<Figure size 252x180 with 1 Axes>"
      ]
     },
     "metadata": {
      "needs_background": "light"
     },
     "output_type": "display_data"
    }
   ],
   "source": [
    "gb.set_figsize()\n",
    "print('input image shape:', img.shape)\n",
    "gb.plt.imshow(img.asnumpy());\n",
    "print('output image shape:', out_img.shape)\n",
    "gb.plt.imshow(out_img.asnumpy());"
   ]
  },
  {
   "cell_type": "markdown",
   "metadata": {},
   "source": [
    "在全卷积网络中，我们将转置卷积层初始化为双线性插值的上采样。对于 $1\\times 1$ 卷积层，我们采用 Xavier 随机初始化。"
   ]
  },
  {
   "cell_type": "code",
   "execution_count": 14,
   "metadata": {
    "attributes": {
     "classes": [],
     "id": "",
     "n": "12"
    }
   },
   "outputs": [],
   "source": [
    "net[-1].initialize(init.Constant(bilinear_kernel(num_classes, num_classes,\n",
    "                                                 64)))\n",
    "net[-2].initialize(init=init.Xavier())"
   ]
  },
  {
   "cell_type": "markdown",
   "metadata": {},
   "source": [
    "## 读取数据集\n",
    "\n",
    "我们用上一节介绍的方法读取数据集。这里指定随机裁剪的输出图像的形状为 $320\\times 480$：高和宽都可以被 32 整除。"
   ]
  },
  {
   "cell_type": "code",
   "execution_count": 15,
   "metadata": {
    "attributes": {
     "classes": [],
     "id": "",
     "n": "13"
    }
   },
   "outputs": [
    {
     "name": "stdout",
     "output_type": "stream",
     "text": [
      "read 1114 examples\n"
     ]
    },
    {
     "name": "stdout",
     "output_type": "stream",
     "text": [
      "read 1078 examples\n"
     ]
    }
   ],
   "source": [
    "crop_size, batch_size, colormap2label = (320, 480), 32, nd.zeros(256**3)\n",
    "for i, cm in enumerate(gb.VOC_COLORMAP):\n",
    "    colormap2label[(cm[0] * 256 + cm[1]) * 256 + cm[2]] = i\n",
    "voc_dir = gb.download_voc_pascal(data_dir='../data')\n",
    "\n",
    "num_workers = 0 if sys.platform.startswith('win32') else 4\n",
    "train_iter = gdata.DataLoader(\n",
    "    gb.VOCSegDataset(True, crop_size, voc_dir, colormap2label), batch_size,\n",
    "    shuffle=True, last_batch='discard', num_workers=num_workers)\n",
    "test_iter = gdata.DataLoader(\n",
    "    gb.VOCSegDataset(False, crop_size, voc_dir, colormap2label), batch_size,\n",
    "    last_batch='discard', num_workers=num_workers)"
   ]
  },
  {
   "cell_type": "markdown",
   "metadata": {},
   "source": [
    "## 训练\n",
    "\n",
    "现在我们可以开始训练模型了。这里的损失函数和准确率计算与图像分类中的并没有本质上的不同。因为我们使用转置卷积层的通道来预测像素的类别，所以在`SoftmaxCrossEntropyLoss`里指定了`axis=1`（通道维）选项。此外，模型基于每个像素的预测类别是否正确来计算准确率。"
   ]
  },
  {
   "cell_type": "code",
   "execution_count": 16,
   "metadata": {
    "attributes": {
     "classes": [],
     "id": "",
     "n": "12"
    }
   },
   "outputs": [
    {
     "name": "stdout",
     "output_type": "stream",
     "text": [
      "training on [gpu(0), gpu(1)]\n"
     ]
    },
    {
     "name": "stdout",
     "output_type": "stream",
     "text": [
      "epoch 1, loss 1.2176, train acc 0.744, test acc 0.808, time 26.4 sec\n"
     ]
    },
    {
     "name": "stdout",
     "output_type": "stream",
     "text": [
      "epoch 2, loss 0.5569, train acc 0.833, test acc 0.841, time 20.4 sec\n"
     ]
    },
    {
     "name": "stdout",
     "output_type": "stream",
     "text": [
      "epoch 3, loss 0.4551, train acc 0.858, test acc 0.848, time 20.1 sec\n"
     ]
    },
    {
     "name": "stdout",
     "output_type": "stream",
     "text": [
      "epoch 4, loss 0.3707, train acc 0.880, test acc 0.853, time 20.1 sec\n"
     ]
    },
    {
     "name": "stdout",
     "output_type": "stream",
     "text": [
      "epoch 5, loss 0.3247, train acc 0.893, test acc 0.848, time 20.1 sec\n"
     ]
    }
   ],
   "source": [
    "ctx = gb.try_all_gpus()\n",
    "loss = gloss.SoftmaxCrossEntropyLoss(axis=1)\n",
    "net.collect_params().reset_ctx(ctx)\n",
    "trainer = gluon.Trainer(net.collect_params(), 'sgd', {'learning_rate': 0.1,\n",
    "                                                      'wd': 1e-3})\n",
    "gb.train(train_iter, test_iter, net, loss, trainer, ctx, num_epochs=5)"
   ]
  },
  {
   "cell_type": "markdown",
   "metadata": {},
   "source": [
    "## 预测\n",
    "\n",
    "在预测时，我们需要将输入图像在各个通道做标准化，并转成卷积神经网络所需要的四维输入格式。"
   ]
  },
  {
   "cell_type": "code",
   "execution_count": 17,
   "metadata": {
    "attributes": {
     "classes": [],
     "id": "",
     "n": "13"
    }
   },
   "outputs": [],
   "source": [
    "def predict(img):\n",
    "    X = test_iter._dataset.normalize_image(img)\n",
    "    X = X.transpose((2, 0, 1)).expand_dims(axis=0)\n",
    "    pred = nd.argmax(net(X.as_in_context(ctx[0])), axis=1)\n",
    "    return pred.reshape((pred.shape[1], pred.shape[2]))"
   ]
  },
  {
   "cell_type": "markdown",
   "metadata": {},
   "source": [
    "为了可视化每个像素的预测类别，我们将预测类别映射回它们在数据集中的标注颜色。"
   ]
  },
  {
   "cell_type": "code",
   "execution_count": 18,
   "metadata": {
    "attributes": {
     "classes": [],
     "id": "",
     "n": "14"
    }
   },
   "outputs": [],
   "source": [
    "def label2image(pred):\n",
    "    colormap = nd.array(gb.VOC_COLORMAP, ctx=ctx[0], dtype='uint8')\n",
    "    X = pred.astype('int32')\n",
    "    return colormap[X, :]"
   ]
  },
  {
   "cell_type": "markdown",
   "metadata": {},
   "source": [
    "测试数据集中的图像大小和形状各异。由于模型使用了步幅为 32 的转置卷积层，当输入图像的高或宽无法被 32 整除时，转置卷积层输出的高或宽会与输入图像的尺寸有偏差。为了解决这个问题，我们可以在图像中截取多块高和宽为 32 整数倍的矩形区域，并分别对这些区域中的像素做前向计算。这些区域的并集需要完整覆盖输入图像。当一个像素被多个区域所覆盖时，它在不同区域前向计算中转置卷积层输出的平均值可以作为 softmax 运算的输入，从而预测类别。\n",
    "\n",
    "为了简单起见，我们只读取几张较大的测试图像，并从图像的左上角开始截取形状为 $320\\times480$ 的区域：只有该区域用来预测。对于输入图像，我们先打印截取的区域，再打印预测结果，最后打印标注的类别。"
   ]
  },
  {
   "cell_type": "code",
   "execution_count": 19,
   "metadata": {
    "attributes": {
     "classes": [],
     "id": "",
     "n": "15"
    }
   },
   "outputs": [
    {
     "data": {
      "image/svg+xml": [
       "<?xml version=\"1.0\" encoding=\"utf-8\" standalone=\"no\"?>\n",
       "<!DOCTYPE svg PUBLIC \"-//W3C//DTD SVG 1.1//EN\"\n",
       "  \"http://www.w3.org/Graphics/SVG/1.1/DTD/svg11.dtd\">\n",
       "<!-- Created with matplotlib (http://matplotlib.org/) -->\n",
       "<svg height=\"316.32624pt\" version=\"1.1\" viewBox=\"0 0 467.8 316.32624\" width=\"467.8pt\" xmlns=\"http://www.w3.org/2000/svg\" xmlns:xlink=\"http://www.w3.org/1999/xlink\">\n",
       " <defs>\n",
       "  <style type=\"text/css\">\n",
       "*{stroke-linecap:butt;stroke-linejoin:round;}\n",
       "  </style>\n",
       " </defs>\n",
       " <g id=\"figure_1\">\n",
       "  <g id=\"patch_1\">\n",
       "   <path d=\"M 0 316.32624 \n",
       "L 467.8 316.32624 \n",
       "L 467.8 0 \n",
       "L 0 0 \n",
       "z\n",
       "\" style=\"fill:none;\"/>\n",
       "  </g>\n",
       "  <g id=\"axes_1\">\n",
       "   <g id=\"patch_2\">\n",
       "    <path d=\"M 10.7 75.395652 \n",
       "L 107.743478 75.395652 \n",
       "L 107.743478 10.7 \n",
       "L 10.7 10.7 \n",
       "z\n",
       "\" style=\"fill:#ffffff;\"/>\n",
       "   </g>\n",
       "   <g clip-path=\"url(#peb0c2a0a24)\">\n",
       "    <image height=\"65\" id=\"image69cfa9528c\" transform=\"scale(1 -1)translate(0 -65)\" width=\"98\" x=\"10.7\" xlink:href=\"data:image/png;base64,\n",
       "iVBORw0KGgoAAAANSUhEUgAAAGIAAABBCAYAAAAqnXGWAAAABHNCSVQICAgIfAhkiAAAIABJREFUeJyNnHmcHVWZ97+n6lTV3W/vnXRnJ4EsBBMgrG4ERBZlRMUFxcF10BnUccZXFAXUcUbFFRQBERAUxNFBxwXEhU0RhJBAQjayb53eu+9We533j+rbVIrbcU4+99P3Vp065znP8nue8zynIqTVoz54Zj9bdm+irndzppGl3jdB7/HvRxh1xqouQm/HMBtkDYtI0wmVjtB8pBBkhCRQEY3ARWYsZKQThiGGYfDju2+ns9xG4EcEKkJKSRRFCM1AExEXnv96Vq9Zy/onH+GXD/wGLdQZq1chioCIoZExcrkcGqCEQIXh9BiT1SoZ0+S6L15DJpPBdX1EFJIrFtjw3EZ0Xaevr48oigBQSk3/7ehsY3KiCiJCENOrlEIIwfdvvZVSIUutWqejaxbKqTA8Psa/fuKTaLpChdA1q5cPvOeD+Jbgq1d/DoXFI08+zNvPeQ3/e9W1vPfOe/nc166lXOwju+0PvGJOkUc2VvnWj27k8U0HqOsmuVyW6kiD8bED2G6A9l8ffzXHmOs57/gC23cc4qYtO3HGezjFGWbFi0McL01mGQqroOMUDZQmyGoaZuhg6DqeHlK162SlRVT3CT0XFfjoKHTdQJom2ZyFNHXy+SzlYh6vABIDPZsn8KssP+lEdN0gigKyhsQyTHw/xPd9giAAQBcCXddRQtDwXMIwJAIsK4vruliWha7rGIaBYRjouo6madMCANB0pq9HUYQQAkU4LaAgCMjn86gwor29HcPUkaaBlBIALwzww4BKpYpCYmgGmqazaGEnQ08/wjW3/4CRV6zlYx+5lGvecTr/sPY0Tv/o1WzvPpOLrr6Gdbt9bCUoqyyN0UnQQvrnHkd7+yzko4/XCOQadm17kbu/+WleGKjz8/+5h7sOHmb1GafihwFtQZb+RoXM9oNkhoZx7RpuTwaxbDm7ujrQwhBlaEjNICNlzKQwoJy1uOhNF3Pff/83yg1pBA28MMAwJI2wzppyFypXYHhikHygmIx8TBESCShmMowbBrlcjsDzCKIIqWlEYUghk8WUBkHo4TSqZDIZ9u3bzfy5cykWi7HgdB1EhKZpsRA0DUQECAQ6uq4TBB5CCIQmkLqG6/rkchkizyOMAjzPQxcCTZOU20o8+MDvefDB33LhG87D033e0gZjf7qPpZe+n4G8YJbwuegdr8OrrWH3jnWEi/sxPY01a05G+SHj0Ri2o8i1eWTJEwiF0BRd3W3IQAzjBQaLlyxkz8G90LmEs5YvI3Pssdj1BgBjuseQFiCXzKLaUyCTyaBnDfAC+kYcFg83CJ97AqqjjHkuhZNWkj9pBfcbBsOZEqeddR4bH36Y7VueR+/IM6tvNjIq8fC+PSyM4P5vfJN6m4mp6biuRyFnoukW+0dijW5qtlKKXC6H6/sUTMlEJcAPNIKGTbncxuh4hcmajWVZBEFAGCg0nSnYARVphJGHaUk830HTNDzPI2Pk8ZSNcj3KlseB8Tp9/XOo2h71wyNUG6OMTtQ58ZQ1HHfcHMbHIr75rrcx6/VrOTzssnXXJIZu8tFLrmCw0UDXdUTJoj46QalzFnYYYmiSEGhvs/CjCCFBBSGaZhAEEdLIlPDDBsrKoo/ZnPCaJdx+5zdZesyJiCmTjUKBpmmEKPLFHKChXJ8wVAxasKukUzzvNALXpiYLaI5L24jPO845k9KT6ylt3Mxaewyx6njkea/lIdujmO/h1KXH8swf/sSs00+gtnkPGUtgGDp+4KLrAqFAKIUfBEjTJAoCbNtGmiauH6CUopi3aDgBSvhkMxbZnEGtVsMwYkgJIz+2BqWBFmJoGfbu2U93TyebN29m48aNHBg+SMHKsnrhIgzZRVuHpNqokcmWqFsF8kbE7++8nt7I4N7th8gY8G//+gXW3/09Tjv3XUxkQBTaOJTLgRWg11z6jl1NNKLjeT6O4+JpGrqhEynFlNsiBEQUgqaQbhRi6iV0K2LPgacw9pzGWKNCIXSoe+B7HvlckYbr4Icevueh6TqB46IZksirU2pvZ2RinHw+S7eRwYsCGjLAkV3UlyoGlsxGBi6mAYOESKvEu098NQO/eJAFzz3GMX0r2GY41JWJiGI48YOY0b7vk8/n8X0f3TCIoogoCNCFIJPJMDoxTmdnJ42GTy4j2bV7N5lMjkgpwjBE0yQQjxmpCBUpHLfBqhPOYdUJqzHfY+JIh2oQMS/bzgcvvwLf8SiUy3i+i9QCunNlzugeY/ZxZzJvzkY2H6oj/3QNyyPYcdcu2qSDYefJSsUfv3IVJ73/cxxu6DheiJUxME2TIAjImBZhGFJv1FBANpNBiti36f8wd+91Kwoj9AKFxgHGtu5k1bLjaOh5XNOgYTdA6EhNQRRi6DoiCNA10IBAeTi+jSE17Moknl1FOS75bBbdnSSrtZHVq7iVkEBXRLUATTXYsXsf5aWz6Fjzap4c3MvAyChFV8fXIhAKoUkOHB6ko7MTPwgQgOd5SCmRUmIZkobb4JzXnYuKNAxNx3Fc+vtmMTE5iaZLLMtCCAFKxL5AaFiWhWlKBgb2smfPDnbu2s7BLbvY9/XPcvvWHcyfP4/TTzmV9q5OhkdGwZ4kCDp56JntnH35h+mYtwQGBym84Y0c+OMOVp04j+y5n2Dd089w+uqTmHvMKsyOTrKFHKEfEQY+tm0TRRHViQlGx8cwDIlt12hr7wBdRzdN9MtXm9dlhI8oWNSt+Qx1nIjb0YuWKyGNLJmMiUZEJmuArhNEAUJIUAp0UIFGvVrDtV2EppG3LAIiHMdGhRG16jiOHWLrHrqUSEOjpJkEhsULL+6lsmuEUy+9gMd+9xCa8PABIoETuLiBwtB1dE0jdrOxEw6VohFFiEbEOeefy8j+PWSEYOLQIF1dXTTQ0LUISzcQEgSxj3FNQdZVdGOSe3EPfaU2JBpGJovZl6O/fxmHX9xKpTLB6NgwtqsI3SpaRvGBd17ML3/2v9zxs18zUauiyS7C+QtpP/Mcrr/qS2QXt7F82QkEWqxMkXDI2Ba+7mGZFkLXyOWz5ItFrEIeN4xoz+SJAo8tW7Yg3an4WQ8HUKM1el51Hu1WjjBSNAIPwzBpLxeIQsX4xBhR4BNNxd5B4KJcDzMSZPM56vUadc/Fi0KEgomaQ1tbG2FYJZcrMFIZASJMzaQiGlRHJjjxTRfxzGOPEzkCz7Iw9IiQkCwC27bJZrPkLIvAtlFCEEURCjDDCLcEfm0MJXUy3R10tRcJ/BCCkIwmCQwNXUXTUVM2Evi6oq4i/HlzMHr62b1tOz1LeuhY8DrszS9iFyyMIMTUNUI/wNUyCAXLFp/MCceuxlUKZei4bpZdezayd/NTXL5G42fCIhxs4GcabPrr0yw7bS2OClFejUOHDhFqcMycFShclBfQmctSj0IkOitXrEJiCDJK4euSfHuRyuB6Rq0yeq6E75lUw4DRoVHy+TymKckYOSLNp16vkjUUegnGhic5tP8g2ZxF3Z0gly8ya3YfHZ0gZUBXx1yeWPccq1afzP69e1CTNbJRiMwXuezO6/H/+3meemojEwf3ogwLVEgU+NPQEkQRYRiSMc3p37l8Dhp1BifGKGWLjA4OEkURDcPAymRAAy0UMX5OtwgdDVdEmMUcB8cH6ZjdjdsIqYRjSJEhE8RWpzSBLgWWITGNPJmFbdTGRtmxeS9Kl9gFqBQEu+98nGUf+CTqtzczmTWgkuUfjl/K1sEJHEdStzwMR1LZd5AdGwdpK1q4XoV8RxuZzl48QyfbNwv99SvVdZFQCKFDpgNr2dvJd8ynWOynUOpE1wKKJcXsdo9S0WfgwCA1e4JisYNaQyPb3U+2bTadPT3osgs9k6HSaOD4GpPjNub4fja+uI6Hn9jEquXLmRh+ka6lp7Jl706WLVnFetPk7t/+kcHh3WTMIpoKAUUpn6fqBZiGiQCcKevwPI8gDBGEeL7PyccvQ0oRC88PCPExM0WkrhOEIbouQCgUUexnQg/TMtmzZyeoCNu1ycsSbYbD/pEJxNgYjiEIg4BAM/AjGys0UbqD3ZAoqeHYNoYK0OyAE7QDfOnOn5PvLdGZs7jltjvQu2czMjrA//z+t2CEDDtjPPbsU/QtXclkTuMnjz3OjqFDDFQPofJFAi1EP/8E47ogAg/JSLVAxZpPpTpK4LqM1Q6St0xMrcx4PWCyGpHN9OBpeeqNBqYmqFfGcSoHMEUNp7GdCcdDWN3UKyPoRhaRyWE7Lnq2l2c3bmHt6y/n5Feezv6dO/nzur+gz1rK6NguMn4Wz6tjOw6G1IlCj73DY+jSwHFdpK7H4aymIXUdEBimyYqli9mxfTOB76PrAhUFmPkctdoEO3dvZ3RkCIiIQh/bqaMIEWGA1KGQzWJISd0ZJx8G7BpXhNVhaq5DFEEmV6IxNkxoGaxa/Qp0zSCXK5ArlwkRPPyzX7KiK8uKi9/Fxhe3IcMs737PFZxx7itp7+5j0m6w7NiVzCr0kS3kWLZyGT+8/+fUK3W6ero5/bXn8LrTXsX3vn8XUkUekxUwi5LB0SGW9s4iUA6R71E2Z4EXIRHgRujSROGgB6PMn92La0PdmyAK2xmqHOCuu9bhR3FK4n2XXUYQuhzYu5+GHzJv9gJGswMcPrSDX37sJ7TP66M6VGfJsgUc2Pw0FT/eCQtdxw0jdu/cjat0qtVDCESchmAqXwToQiNUEQcO7CMINaq1OvV6g3e8+4NMOgGnnnwSxXIJ3/dxHId6vY7vehweGiBw6vz+gfsRKsI0TVwJlVBDq9QY9HwCIdiyaRPF9k7y+IzVRnAcD0vTqLkOruuiOXWWliYx1lxCe1ilUPCwnRp2sIOhw9Bb6mRWV55nH3uUT1/3eU4PVrFv0yb+69rPMm/JIp778zO0t3WzY3iCS975DsSNbxLK1XV8TEbsDmaf9e8Y+AhN4UUKIeIdra7AcV2qtQph6FLI53E9j7HRKvVajbvuvQ+hGRhSw3Vd1q49hxNWLGJkZAzLsmhMTNBW7GDhccsICoqdf9vAGWtfRxBJfnP/vTRGJwn0kJ37D/KmN7yRRccex9joPp749Tpe/fbXIyPI54r09/cjjThXND4+zr333ksul6NcLlNvNOgoFSl3dFKv18maBiOjg4RhSIgiqNdx/RA/UJRLeYQQdLa3Uy5k0Eq9LM1Vuee+n7N5osa/ffgTRJpOVymisX8vsmMFtu5iCh0lYOPjv+PMSy5geOOL3HHDPUTHzeLTH/4Eo3UbzY4YrQyxf8ML7BwcoNzZhTJ1Xjm7n1pHJ/tGdyBGG3QsWMKDD/yKN118MdLMWzTqLpEImKxN0uvW8HWF58V5GE0DTeqMTlYxpc6cWb1IqTFerVCrVQhCl/HJUS644Gx+88CfOPbY49m0aSMvvPAcy5fMx/M8arUKTsMjky1weGiAstGOPrwew1tGrmMJQ2MTKNfBCR3m987hr4//lXXPbmB0bIjajr3kZpXYsm0TDdfjiiuu4Cc//hGe59E9azb79u2DMIgddaNBLpfjoovfzMFDhwnDkMcefZjZbRnKWZ0DEyHXXnstffMWQqQYGRnB9338sIYK8vz41msYq0lkLotR6ibwbWyjm2P129kQnkCx1EakdIQ0GHvkj6jz3sVDt93Oca7HFnqouwGBMNj41COcf+lbGTw0TK8heNM73sEnP3UdZ885hl//9S+sfcNrCPYMsWNwEMeHTL4D6QtFvmQwVtE5NFzl+CjE10MyhoUuQQiFkDql/r44Ygk9anYDx7YpFssITZKdCndPXlWhUMwglM47334pwm1QLLQRqIBymySbNWhv68b3PB7bMMwrXjvBd2+5gT1bNuB6PkoHFcJ5rz+P3u5OCsaJFN7ZxsThQV6xagUN26VeqfKGCy+kWq3iOA6vWH48I8MH6e3uoVKpYKOzd9dOKpUKf/3bOgrFIjsO1UAIhPKJfIdDe3cSEYftmtDRIgMr4/P+N5/NfT/6KcNBFwVL4mCiOaMMdryVvXddxZLL/pNiWxZVqXPed+5idHCEf/rMt9j3wA/YWndxXA/dDelcuIjH//AEB4cO8sKOvSx+7gXOfd0aPv3dG/m3L3wWt+LwtRtvpdTZwX988fPYvouUrkLXJVIKFi3vJ1IOkjyYgsnJGtl8DhUE+J5NvV5HBSFmNoMfRIBJ3iyQMS0y5Yj3HvNWHvrLYyg9pKO7RFdpPkLTUFGEpikqVYeenh4avs2/f+4zOPU62557GiHjhBhhHO8/8LsHuf7LX0RqAsMwWDSrH9uto0caG17YyKoVK+OaxOQkTz79NKeeegr5rEV7Vy8P/OHPSMvm7HNP4aln1qHQ0LSIKIooFIscGJ7kpptuoqOY5Z+v/Aiu61PM5xB6G2rhGdTbHyKqeCg08tkCszty/O0vL7L6FJMXXniKzU+/SHVkKx+49lsUSkX2uxbBxf9K+KMvYUhJzfXpac8xa8ki1q1/khMXL2Hv1g3s3bmbE09ZyZZ1z7By5Su4+ZabaEyli9qzbciHtyoGRh02H4rwqPO9CxYxUa1Qdx3y5TJSaAig5tjkSiWk0ECZ9PT3cscdd/Dchs3U/Do9Hb2ceOJyDh8cg0iwbMFiRifG0TSBJg0iTZAratRqFXRdJ5IFzHKO+3/5M9588dvjVES89cIyJO3ldoQAIQR+EFLIlwl8n2qlhmGYCKlT7mgnUyiwePFihoeG0E2LN164lnK5TCFbwPloSKZg8qX//DJvfdsl/PL+X/DVr34VTdMwDINvfvs7HLdkMe988yXkMjohWc6/5KNsvu3rCEL8IEBT7ex8cht3b3GZ2/VrntlS46u3fJbIBE1ITFnl2GI+3vOYCsMz0HSNqgq49LJ3oUWA0jjtrIggiDAMA3SNehCiCRFDo+8j1374yyhhEkUWQVRjzJ4kkxUgwHMjNKlBGJE1DHShkTVNHnz4EX5+/y9AgcAgB0wcGmSbCTv3DWIquO2eu1n7ylfTUS5gSQspJb7Q46hHEwRBgFIwfniI79/yXXr753DRRW/ilu98ayrdbTFVs8EwFMMjo3R2dNDZ2UmhkMeP4sLR/HnzME2T2+68g0WLFrFwwRIufMP5jA0PsWbNCqo1m0suuYSf/vSnL1XoOjoYGRnj+OOXU2u4bNi2mVNXr8IMdXLFLnSZQZM6XsNmz8G9rHrn6zkzfAsH//Idnt+6Hd9YSqQqRL6DUAY7DjTIKInnBViFLDKCQBdoSqCbGl4QoukGeUtD07S4IKUkStNjIUiJ3LRtN+25TkQ4gWVZoAnGQ4uaY5OxFGYmh9Ti3aaVzRAS8uKL+2PM1RUon3o5yzw3YufAIEQaCo2TVp/CrT+4jRu/fj2+E6AbEjdwGR4dQTNy5CyDD7z3n7j51lsxhOLCC95AX98sclYWIxPvoAmjuMKmawwNDdHfO4sTT1qNZZhkdI0gCJiYmOCPf/oTJ598Mme9+jV8//bbmLugj72799FRKvLs8xu576f/E9cjlEJKyfj4OIKITZs2cdZZZ5GZ1cfTm7ag1WxypQKdnWWu/uwnyZhZ5pRN0ASHx8eZ9PNMiIAvfeUTnNDZw+aJKqsXr2D93x6j95iFHLd0OYeGhjAU+GFIqAWMHRrGyBps3bKDUmeRsbGYz47t4QcuhUKB0dFR5LPrJzl+uc3SRYuxfY9f/OJ+Lr/8/bgH97Fjxy5qdoXKWJ0gCLj8H9/NsxvXsWnLsxAJNEyiyIUxm3pnJ4y66FqEH0U8+ujDeF7AR/7lY3EaO4jiGoPQqdcmkYZJ9+wevnL9VwGN445dhu+HXP+dbxN4HoYmyeWzrFmzhnq9yp6BUb72jRtQ8UaZj37sX3jVGWey/q9PMlGtIKXJ/EXH8Na3vY3Zvb2sOmE1H/zglRyzeMGUJQhA0dPTwxsuuJBbb/s+APl8nr58ifa+eVx//fWsPedshg+HFLs7cUYCOqKQrpWnMPDUk5StImeffRrrhgd548VvZtavbmTpGUvYPvE8H/jHz3Bw1wEiQ2FZJe69527KpRxLFi/jlm9/jU995nMct3gl3/nu9fT29jI6NsycOf2sPukYDP0UxDVf+LqaM0tgGFkEEksXgMbY5CA5q4y0FLpmEAYehWyOb91yE48/+gyvftWZWAYEjovnBQyNjBFGcf2gUC6Rz2SZrIyRyeTitIQfYloGoQKUBE3gui66buA6lalQWSACHWFquF4ckiqlCP0Ax3N5zatezfObNmIZJiiXSmWC9s5uFi5cxPbt23nXuy7j0T/+nt6eEo88/jfOfOU/0PBrPPTbX05tBSMWLFjA8OAQQRTiui6f//znWb58Oblcjj//+c8sXbqUxx79A4cHJ2i4E3zwyn+hYFt0HdPNGy+6AN0JeNflF/GF97yNzc9/nwCX8z/9NO6hCuWeHh78/U+pTiiWLl3OgQMHuPHG77P2VatZe97ricJ4j1WpTDAxUWPj5qcYODjMmy6+GHHmmWeqer1KrTqBEBp33PI9du/ejZWTCCFxnDpdXd3UJhsUOiQ//tF9ODWb4aERGg0PpM7kZDUu4OQKSClxHAfDlOiaibRMPDfAkBFWNovjuGjCRJr6dNHH8wI0LYYa27aBiMAL41JmEP/NZrMMDw6BrlHKF5isjlGrV1i4aDG1WoM5ff10d3czMTbOHx7+I+efdz5tuRx/eOwRhofH42ojcSbWlAZKgGEYfOUrX6FUzHP8ypWsXLmSBx94gEVzj6F/UQ+5Yi/VsSGCSMOyIPQjKrbDj++6nQ3P/I03v+VCLn33Zbz49FN8/VvX8c5/uh60OqYy4lKt0tn2wwc54x2vZMiQCF2jrdxNpDwOHRjn7lvu5tr//BRDIw3EIw//Ue3bt5svfvE/+OhHP04QuBw8eJCRoUPs3rcX08yQNbNEYYN6pYEfhTh2vNnL5gvY9QZhpJCWiWVIdAFeBFKaeJ5HNhufsjAMAyEEUQhKAFGso9l8jkajQalUotFoTBd/XDc+qSGEQEpJtVqls7MTANu26e/vZ+vWrWQyGcbHx3nH2y/hrrvuYmBgkDNPW0PP7D4WLVzMocMDvPvd7+aNb7yQMHzpRIeu69zxg9uZt2A+hw8f5vilSwh8D6UU2VyewPcII0Wx0E2+TWP//t0EtoVh6nz0yq/haz6Vwwe4++4f4EQTuJtvp2f1uwmDEnVloyKBpsNz197BkmveExfSfKZPkAAoDx586AHOvugCxBVXfEhd9alPsXvPPrJZi2q1SsOxufXWb7F31wCzuot4tk+o4s2caWSo1mvk80VCBdI0pp2g74VkrJjhCAsp4wghimL/YBhWfAhAgArjUC6IQiwjds6O42CasQDDMGR4eDiuSxeLmKZJsVgkiiLGxsaQUqKUolarkcvlODxwkGIxj4gE655dz1mvfQ3ZbJb3feiDvPnNb+Hxxx7lW9++kYceeoj77ruP0dFRVq9ezYYNG9i6fRvfvfEGioUCv/71/2JZFna1BkqjZlfIFwxEmEdpLirS8KOQD7zvav7r8jrdr7kxphefvNaNrQXI0Jk+7GB4GnUzwAhDQvHSIQgAFcXlYEOAGB0dVihFJmOSy5dRCoIg5IILXo3yIqJQx/ErmGYG23aRpoVpmtTrddraOhBaXH70PQ9DWoRTB8l838WyslMlynhj1jzE1fw0f5umGR9SiCJ834/9QhhimiZ79uxh4cKF8UEzTWNsbIyHHnqI2bNnxwyzbSYqk2RMC13EpzKUAMuyqFcbeIFLe7mNuf2zKXe0s3nzZh555BE+c/XVvPUtb2F4eJgbbvwuk+MVPM/BsCQP/vo3CKFoNBxuv/UWPvzPV4II8SMdjdh3ZQuv4C8/Wcux515Pez5eZ83zyISCWmBjZQr4rodQClvzsAKNADFtkVEUoWshSmmoSCCef269CjwbNB0hoKtzNv942WVM1sbIWyZ+GOO3lS2glJg+HQEQhiGFYhkpJUEQIKWcPtzVlHqT4eZUUad5TdO0KWet47ou5XI8jmmaOI5DNpvFF4p2I8uf7v9f2ju7mHAalGd1gyk5d+3ZbN68mVKpRLGQY3BwkGq1yuTkZJzfqjawbZsg9PA8Lz6spiD0A0I/Pkg2OHyYm266ie/c+G16erpxfZ/Ozk7GhweRms6aU05H0zTe997L0aXB6Og4k5OTBEGAkfP5yEf+hTtv/yl2w8f1quiaxR9+/xfOP38N9YZECQ8h9Li/YfDlr3yef/vEZ6ajOKVeOmEoNm1YpyIVEiHo6c7x3ss/xOREg0zWio+2hGCaGYSmkc3miaIAKU3K5TKNqTM8pmlOQwVAJpOZOkERb2B836dQKByBz67rxtEPMbxFUUS9Xsc0TXp6ujj22KXoGtiOQ6hg5949LJy/AENoPPHIY7z10reRmargdXZ2YhgGmqZhmiaGYeA4MTxks1nCMGRsbGyaBrtW5Tvfu5lly5ZhGAbdPX1IqeF5AZOTk+zds43Nmzax4fmNeLaHZcXKN3/+/Ok1mZaBtGKF9B0XaWbI50s8/McneNVrVzO7dwGLlyxixYoV5PNZPBeu/eInuPKfP40QOlO6jKZNHUNdv+5ZJbQQP3S57rOfo1KpIHSTfK6M49m0tbWhaRLD0DHNzHQE0zycVSgUpuEkl8tNa7xlWTQaNRzHAWBOfz8LFiygvb0dIQSVSoU5c+awf//+6ZSDYRjTVqJUXH245eabOfess7npzju49eabAXh63Tqe/uuTXHfddbH/kFOBAApNk0xOjpPNZqnX6zz++OPkcjlGRkZ4yyVv5eE//J4vXns1tlNnVm8fp65Zw+knnUQQBAyNjLBu3XombZv3vvd9XPyWi9m9dx/1mksQejEyWBbFYjG2fCmxbRenYWN7VaqVBvv3DbJr1xa2bt3MCy9sYXR0mDBUdHa2USgUaG/vQghFPl+cVtggCBCbNj6nlAr4/BeuZmS4QrFYQtMNCoUCuVwBz/NwXRcpNUqlEvPnz2fKLCDMAAAOB0lEQVTJ4sWUSiWiKMBxHBqNBlKaWGYWP3CRUk6dMY2lXp2YZPacPkYOD7Fnzx727t3F2y59D5PVCaTSQdcIp+rSnR0dhFEcvkpDw/dCIkJ+97vfT1tNEAR8/OMfJ5PJTB+pNAyDBx98kDAMqVar9Pf3s2bNqZTLRZQS6FMHiDdv2sDcuXOPOJQcw0TsRB3HiROEhRJ9c+YwMTHB6Ohoom/sy5qf5vUINX2/CTfpv8kWRRFBEBAEsc8RmzauV9JQ/Px/foplFshkCxQKhVhDdR3LsqY2VhqZTAbP86Y1WCmF0OOQ7N577uPCCy+kVCzG504BKSWeHx8CePbpJxg6PExf/zzmLphD76y5RFGArhuYho4mJLZTJ5PJ4AcBprQII5+9e/cyf/58rEwO3/fxPI/ly5fzwx/ewd69eznttNOoVGqsWbOGRYsWTZ/ya4a+QghGRoZYt+45zjh9Db5jx/V54h26EkwLonkw2fX9qQPPTOXEjmRyk5FNJjcZ3dyANpneHLOJEs3+zSOkTfgGEM8//7xCBOzcsZtM1iQKYwz3fAdNxJptWRaaEKBiAYQqmsJK0HWDBQsWMDg4SHd3J3v27MMwDBqNBna9gZkxyOeLcV1Dl6hIoJSD1HMIEeI4DkLozJ7dz66d2+jt7Y0PlCktzk85Dbq6uhgcGqGzs5OJiQnmzZtHuVxmbGxs2ifEIXLM4ImJCZhyhD/58W8YnxyjvaPMe993KRMjwygVnwQhioimmJq0kGYL1UvXhRBHMC7ZL8ns5PWkgJL3Ws2lX3HFh65DU3S0d9Pd1U2xWKZQKFIsFsnlctPWIQ0D08pOOfEYz03TAuHS3tbBp6+6lo6OWXR2taHrOtlslnwhTyZjoQudUimPihSGLpCGjmGYeL7NN77+TQqFIj09vZimROo6+Xye3z34EKefcQb5fA7Xdenu7kHX9enoqpm1tCwrdpi+P+2wR0dHUSoOhU9Z8yqefOoppKHo7ulE0yRhBBHRtACUgKmcOwhQU5vNOLsc/1NRFCc6W3ymtToRFf69+80sbPOv2LjxOSWETm9vL4Zh4HkeEJuk67oEQYDv+4Shj6bJl00CEd3d3QwNjcQHlUM/MVnMMF3X8Twn9hvo5ArxbrvRaFAul8llszQaDRYsWMAvfvlL7v/Fz7n5e7cyMTlGGCgefeSvHDy0nyuu+FBcPxcaaC8tSkrJ/r37ME2T0PenEhlxeB2Gilu+93NK7REd7QXOOe/cKTVWLSEnDTtpbE/uhZI+INlaXWsFacnrUggdIQRDQ0MsWrRo2ryjqcPAzU2TbdennJ4+/dYOxE6yVmtgWXHNIQzj9yPq9TqTk6PMnj0bXdfZufNFFixYwMFD+ymWSnR1dfGrX/2KJccew+8eeIivfvXLjI9NctppZ7Bmzelc8tZ3cc7ZF7Jt+wucccZp/L9P/ju1egMhFKaMNX/37t0A01rled5LznTaeUpe2LSNs173CtqkQ+h7CE2hIv0IjE8ypcn8JpYnhfGSAr7E8DRcpV+QSY6fto5p4W7evFk1NVvTJH19fUgppzEx1mYPz3NoNJwpQl46Wj46Oopt29xzzz187nOfm3ZuV111FT/84Q8ZGBiASGFmLAYHB+nvm0UYqHgfkTFoNGo88cR6Hn74EW763o3cefu97N69m4GBAdZvWMeSJYu476c/xrZtDENn27YXyZhZoiggnHqVKwgClHg51iulQARYsocf33M77zl7KXbH4lhYSj+CuUltT29G04xOW0OS8cnvrXxB2lKaFiKFUFPwGCejBgYGKJUK3HHHHaxdew633nozQ0MjSEOxZMlK3njhRfzmgQeYO+cYDBmxY99WGpNV9u7fh/IDhCZYt24dV155JXv27CGXy5HJZwg8n57uzqmkXh7DNLnrzp+z78BmAjfP+KjH56/5JmedfQrDI4e44errcV0bKSWbN2/G0GNLEwocpzG9oOT7b1EUxfWKJJwoSd0eQpAhcOpEQsaHmTXxMgtIam2SsUmHO5M1JIWZFvARmp+Ateb4ABI0hGi+3hR3rlarFIo5nn7mr/T09lMoz0ITNoZhcfP3fsCpp5+CYehceMF5fOOrG5Ho3PCdmwi0+MWSU089dZrIJqOkaSCE5MCBQ/TPFfzHZ2/lGzd8GqFMrrnmC3TPnss113wM23Y5fuVx7Nq1I65tT5meG3kvMVxFLy0cRaQiNKHFGzrxEmPiTGfscJ2GRlTdhxInYyJQQoD+cpxvMjwJS0nhJN9eSgohLYAkpDXHTAuz+RtAbN26VSWlDEybexTFJ+HK7W3oQlIqW6jQZHR8gIMHBuns7CTSdDJSR+ggfIWRzRyhHdu3b2XZshUIIcjlcti2zb//6xf48vVX4bohX/j8f3HDjdezb98earUaum4kzlRpL4ODJJ1NP5Y292af+JmQIICPXflpvvv/Xk8471VIzYrpFfFbSRGJFx4TjG4FVa00P63x6ftNobVy1NNjb9++XaWjhuQAYRjS19eHpmnxu2EJ00pCQhRFL8uwPv/8Brq6uhBCMDo6TqVS4bbbbufWW2/GMAx2797dMmqZZgpi2unqQjuCrmbUNG3iU33TcND83dszh+/ecB2XXvZBgjDeTSf7prE97cjTjE625B4myeCZhJbmnaZpyDAMj+icnkzTNAYGBgjDkCVLlkw/mMbRZr6pKXld1znhhFXTeaN58xZRq1Xo6enhwIED0+M0N0mtFigQ0KRHeylkTmpWc3wtjvZfNkbMqICR0QF0q59yey9jo8M0p0vDSCvIaeWAj6Az5eybzycF1fybDP2TlibTGpnW9uYkuq6za9euIyZxXZdMJkOhUIh335o2nXuybZuOjo7p3FBynCRhcup14FbEoXiZMxRCTDP/iDAzjND0l2g7krFT71U4is0vvEB/31wUfsu9QtI5J3+nI6VWEVTTKtIW0RRksjyQfkY2fUGrBR/hTFKMAqbzUJVK5YjBIfYz9Xp9mslJopMalpwjnSpQQFPJm5rWig4AzZDT35N0JAUyb1Eny5cvjVMgqZZkcpKO9N+0n2oyuNW8La28hQUCiPXr16v0w62c5NEGThORvD7TLrUV9h4t9JspjZCmAabes5vaA6Vbs1bRysnPJIQ0T5J8SWJ9mu5W+4dk/yTdMnnz72lEEuNaDZicMMnYVtFCWmhpGtL307jb9FMzjdcMLNKtWUmcKXpJZg3SDEzSkKY3aRWtBDGTYjXvySNOFaQ0/2gPJwdpEpmUcJqININnGjs9VnJRTZ+SvJ92fk3laPqiVlaThpq0UF46Fnmk/0w74yZNrayrlRUl50rzSh6RE28BD62cTJIRreLjNBOTzJpJMOn+rZ5NQ81MSpO2sKP5uaOFqklGJedI9ksr58uwP8WXJIokaZRJJqcXlISW9CJbwUIrIlqFgunn0s+28kvJ761gKg0dyXHTAphJEWbaHKatIg1RM6096UPSlpcUCoBMO43kBEnzasW0mVoaOlo904rwZks62lYWmBbKTEJIz98KkpJzJNee/N4qeJnJ+pNw1goOk2tIziuTMXzagSQHaQVbM7WjaW+6X9Lamq0phOQ4SYGkIWcmutNjHM0C0z4mnXGdSbNbQXmrNaX7JNcvhEAmiUtHS2mnNeMOuAUWp/8ezUSTC0pvqNLjpxWmFU0z+YEkPa129K2sLg0vaZ+YhJikpSQFmYa2VnTJVoTMtOhWZj4Ts2bSuFYWknaYM/mGVpFYGqJaPZNUqGabaROWhpTk2Mk1pBUqDeHpsD7ZkpFqs8lmmHe0haQZn+6XzjulQ9lWm530olvdT9OShqJWwkgztVX7v1jqTDSko6tW87SC8mRr5T9kkpFJqSavJ4lM5nlmwumZwsCZIGumFHErzWz+Thff0+OmGd38ndbEtJK1YmJSy5utyZu0krVifivLSEOzTBOd/N4q3EtfazIjKcQkc5rZ3VZtplC1eS+deGtu1JJVuaQipCHj71ngTH2PRmsaepIwk+TTTPMkmZ+kS84UXaR9w9GYljbhmTA9eS09X6vopNVmKW05zbp1OmRstfA0s2e63gqm0s+l0QNeKlQlE53N/s3goNUhNJj6T3RaCaAVc1uFXWl8bsW8mT7JhTcX0opJrQSb7JusqSSjl/R6Wo3ZSgDpNbWK8FqN11SIVpFcko4kr6Y/rRgzE/HpjVW6T1qIaaJnEkIaw9OLScNPK4tMx+8zWWxzzr/XLy2AVv2SLWnFM8Fl81orS9NaOd6ZJpyJoekFttLIVi2tYa1oaX6fKfM5k6anBZwcP722VoxNtvQ+IPmZSSjJ72nlaaUQMg0zaYLTEj2aiaetaiZim3PMtH9If1o5u+SYyZ1wOj0yE5P+L446uc70WMmQP30vvZ9IXpupbtFSXVuVB9PXW4WPrVqyLpDU7Jm0Kr3opP9opVFJOEqWYJPPzhTnJ8dKM+Zo39MKlLyfrmW0qiq24pdsRUSrjk0GtvIDSUaktTEdEqcX12qx6Tma19IRVasxW0VdaSiYCSJmsr609bbi1Uywl46S0m0awtNSnckvpK/By5Nt6brFTBMn76UFdzS/k6allTWl52r1Pd1aYXZ63KMx8miWkkSBo/kTLUlEK9NJD9jKLyQ/zf+NvpXGNk032b/5v+GnHW1yYXCk0JvxeBoeW0FOch1JJqUxO9nnaM+2YmSrDWxyjGR4naazuR6t1eTJw7zpB5oTpxevaS8dQEtrVvp30lybpc9mn6QAWznsJA1Hc5JJ2tPXk4JOz91q7WllS18Pw/CILEDSVzTXmKYzTd//B7PknCEx1Vx+AAAAAElFTkSuQmCC\" y=\"-10.395652\"/>\n",
       "   </g>\n",
       "   <g id=\"patch_3\">\n",
       "    <path d=\"M 10.7 75.395652 \n",
       "L 10.7 10.7 \n",
       "\" style=\"fill:none;stroke:#000000;stroke-linecap:square;stroke-linejoin:miter;stroke-width:0.8;\"/>\n",
       "   </g>\n",
       "   <g id=\"patch_4\">\n",
       "    <path d=\"M 107.743478 75.395652 \n",
       "L 107.743478 10.7 \n",
       "\" style=\"fill:none;stroke:#000000;stroke-linecap:square;stroke-linejoin:miter;stroke-width:0.8;\"/>\n",
       "   </g>\n",
       "   <g id=\"patch_5\">\n",
       "    <path d=\"M 10.7 75.395652 \n",
       "L 107.743478 75.395652 \n",
       "\" style=\"fill:none;stroke:#000000;stroke-linecap:square;stroke-linejoin:miter;stroke-width:0.8;\"/>\n",
       "   </g>\n",
       "   <g id=\"patch_6\">\n",
       "    <path d=\"M 10.7 10.7 \n",
       "L 107.743478 10.7 \n",
       "\" style=\"fill:none;stroke:#000000;stroke-linecap:square;stroke-linejoin:miter;stroke-width:0.8;\"/>\n",
       "   </g>\n",
       "  </g>\n",
       "  <g id=\"axes_2\">\n",
       "   <g id=\"patch_7\">\n",
       "    <path d=\"M 127.152174 75.395652 \n",
       "L 224.195652 75.395652 \n",
       "L 224.195652 10.7 \n",
       "L 127.152174 10.7 \n",
       "z\n",
       "\" style=\"fill:#ffffff;\"/>\n",
       "   </g>\n",
       "   <g clip-path=\"url(#p48b18758d8)\">\n",
       "    <image height=\"65\" id=\"image22c8ba7502\" transform=\"scale(1 -1)translate(0 -65)\" width=\"98\" x=\"127.152174\" xlink:href=\"data:image/png;base64,\n",
       "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\" y=\"-10.395652\"/>\n",
       "   </g>\n",
       "   <g id=\"patch_8\">\n",
       "    <path d=\"M 127.152174 75.395652 \n",
       "L 127.152174 10.7 \n",
       "\" style=\"fill:none;stroke:#000000;stroke-linecap:square;stroke-linejoin:miter;stroke-width:0.8;\"/>\n",
       "   </g>\n",
       "   <g id=\"patch_9\">\n",
       "    <path d=\"M 224.195652 75.395652 \n",
       "L 224.195652 10.7 \n",
       "\" style=\"fill:none;stroke:#000000;stroke-linecap:square;stroke-linejoin:miter;stroke-width:0.8;\"/>\n",
       "   </g>\n",
       "   <g id=\"patch_10\">\n",
       "    <path d=\"M 127.152174 75.395652 \n",
       "L 224.195652 75.395652 \n",
       "\" style=\"fill:none;stroke:#000000;stroke-linecap:square;stroke-linejoin:miter;stroke-width:0.8;\"/>\n",
       "   </g>\n",
       "   <g id=\"patch_11\">\n",
       "    <path d=\"M 127.152174 10.7 \n",
       "L 224.195652 10.7 \n",
       "\" style=\"fill:none;stroke:#000000;stroke-linecap:square;stroke-linejoin:miter;stroke-width:0.8;\"/>\n",
       "   </g>\n",
       "  </g>\n",
       "  <g id=\"axes_3\">\n",
       "   <g id=\"patch_12\">\n",
       "    <path d=\"M 243.604348 75.395652 \n",
       "L 340.647826 75.395652 \n",
       "L 340.647826 10.7 \n",
       "L 243.604348 10.7 \n",
       "z\n",
       "\" style=\"fill:#ffffff;\"/>\n",
       "   </g>\n",
       "   <g clip-path=\"url(#p27664504e7)\">\n",
       "    <image height=\"65\" id=\"imageb3580a11ca\" transform=\"scale(1 -1)translate(0 -65)\" width=\"98\" x=\"243.604348\" xlink:href=\"data:image/png;base64,\n",
       "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\" y=\"-10.395652\"/>\n",
       "   </g>\n",
       "   <g id=\"patch_13\">\n",
       "    <path d=\"M 243.604348 75.395652 \n",
       "L 243.604348 10.7 \n",
       "\" style=\"fill:none;stroke:#000000;stroke-linecap:square;stroke-linejoin:miter;stroke-width:0.8;\"/>\n",
       "   </g>\n",
       "   <g id=\"patch_14\">\n",
       "    <path d=\"M 340.647826 75.395652 \n",
       "L 340.647826 10.7 \n",
       "\" style=\"fill:none;stroke:#000000;stroke-linecap:square;stroke-linejoin:miter;stroke-width:0.8;\"/>\n",
       "   </g>\n",
       "   <g id=\"patch_15\">\n",
       "    <path d=\"M 243.604348 75.395652 \n",
       "L 340.647826 75.395652 \n",
       "\" style=\"fill:none;stroke:#000000;stroke-linecap:square;stroke-linejoin:miter;stroke-width:0.8;\"/>\n",
       "   </g>\n",
       "   <g id=\"patch_16\">\n",
       "    <path d=\"M 243.604348 10.7 \n",
       "L 340.647826 10.7 \n",
       "\" style=\"fill:none;stroke:#000000;stroke-linecap:square;stroke-linejoin:miter;stroke-width:0.8;\"/>\n",
       "   </g>\n",
       "  </g>\n",
       "  <g id=\"axes_4\">\n",
       "   <g id=\"patch_17\">\n",
       "    <path d=\"M 360.056522 75.395652 \n",
       "L 457.1 75.395652 \n",
       "L 457.1 10.7 \n",
       "L 360.056522 10.7 \n",
       "z\n",
       "\" style=\"fill:#ffffff;\"/>\n",
       "   </g>\n",
       "   <g clip-path=\"url(#p309326446a)\">\n",
       "    <image height=\"65\" id=\"image503a2d9b02\" transform=\"scale(1 -1)translate(0 -65)\" width=\"98\" x=\"360.056522\" xlink:href=\"data:image/png;base64,\n",
       "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\" y=\"-10.395652\"/>\n",
       "   </g>\n",
       "   <g id=\"patch_18\">\n",
       "    <path d=\"M 360.056522 75.395652 \n",
       "L 360.056522 10.7 \n",
       "\" style=\"fill:none;stroke:#000000;stroke-linecap:square;stroke-linejoin:miter;stroke-width:0.8;\"/>\n",
       "   </g>\n",
       "   <g id=\"patch_19\">\n",
       "    <path d=\"M 457.1 75.395652 \n",
       "L 457.1 10.7 \n",
       "\" style=\"fill:none;stroke:#000000;stroke-linecap:square;stroke-linejoin:miter;stroke-width:0.8;\"/>\n",
       "   </g>\n",
       "   <g id=\"patch_20\">\n",
       "    <path d=\"M 360.056522 75.395652 \n",
       "L 457.1 75.395652 \n",
       "\" style=\"fill:none;stroke:#000000;stroke-linecap:square;stroke-linejoin:miter;stroke-width:0.8;\"/>\n",
       "   </g>\n",
       "   <g id=\"patch_21\">\n",
       "    <path d=\"M 360.056522 10.7 \n",
       "L 457.1 10.7 \n",
       "\" style=\"fill:none;stroke:#000000;stroke-linecap:square;stroke-linejoin:miter;stroke-width:0.8;\"/>\n",
       "   </g>\n",
       "  </g>\n",
       "  <g id=\"axes_5\">\n",
       "   <g id=\"patch_22\">\n",
       "    <path d=\"M 10.7 190.510946 \n",
       "L 107.743478 190.510946 \n",
       "L 107.743478 125.815294 \n",
       "L 10.7 125.815294 \n",
       "z\n",
       "\" style=\"fill:#ffffff;\"/>\n",
       "   </g>\n",
       "   <g clip-path=\"url(#pc21fb82699)\">\n",
       "    <image height=\"65\" id=\"image036e275e91\" transform=\"scale(1 -1)translate(0 -65)\" width=\"98\" x=\"10.7\" xlink:href=\"data:image/png;base64,\n",
       "iVBORw0KGgoAAAANSUhEUgAAAGIAAABBCAYAAAAqnXGWAAAABHNCSVQICAgIfAhkiAAAAWZJREFUeJzt2stuwjAARFGn4sPnz+mimwpCCPgxN/acXSvAI12FVoStlHIvYffjHhB/EgIiISASAiIhIBICIiEgEgIiISASAiIhIBICIiEgEgIiISBu7gEj6c3PTstcETr5O5etTHyHTo0f11P1W5MaPaal0ee18NUVocpDa5/f43VrntvCRyHUbweCjGefCqH+OzBkOvftf00aMCIO/lhr4AgKGc/evSI0eETshJBhBIHM59/cAwjkHlAW+6zpP7kHPFgqhNwDDkwfQu4BJ00bQu4BH5oqhNwDKlw+hNwDGrlkCLkHdLCVUu5yrzhB7gGdPX36Ks+Ol+QeMMjux+AavwN1vsPL+xEaOGLkWVSHN4bU+fDer38lQ+/QtXqdGXW/Z/3Nc1Y09fearmSZb/rRJQREQkAkBERCQCQEREJAJAREQkAkBERCQCQEREJAJAREQkAkBERCQCQEREJAJAREQkAkBMQvk4skf/HHP/IAAAAASUVORK5CYII=\" y=\"-125.510946\"/>\n",
       "   </g>\n",
       "   <g id=\"patch_23\">\n",
       "    <path d=\"M 10.7 190.510946 \n",
       "L 10.7 125.815294 \n",
       "\" style=\"fill:none;stroke:#000000;stroke-linecap:square;stroke-linejoin:miter;stroke-width:0.8;\"/>\n",
       "   </g>\n",
       "   <g id=\"patch_24\">\n",
       "    <path d=\"M 107.743478 190.510946 \n",
       "L 107.743478 125.815294 \n",
       "\" style=\"fill:none;stroke:#000000;stroke-linecap:square;stroke-linejoin:miter;stroke-width:0.8;\"/>\n",
       "   </g>\n",
       "   <g id=\"patch_25\">\n",
       "    <path d=\"M 10.7 190.510946 \n",
       "L 107.743478 190.510946 \n",
       "\" style=\"fill:none;stroke:#000000;stroke-linecap:square;stroke-linejoin:miter;stroke-width:0.8;\"/>\n",
       "   </g>\n",
       "   <g id=\"patch_26\">\n",
       "    <path d=\"M 10.7 125.815294 \n",
       "L 107.743478 125.815294 \n",
       "\" style=\"fill:none;stroke:#000000;stroke-linecap:square;stroke-linejoin:miter;stroke-width:0.8;\"/>\n",
       "   </g>\n",
       "  </g>\n",
       "  <g id=\"axes_6\">\n",
       "   <g id=\"patch_27\">\n",
       "    <path d=\"M 127.152174 190.510946 \n",
       "L 224.195652 190.510946 \n",
       "L 224.195652 125.815294 \n",
       "L 127.152174 125.815294 \n",
       "z\n",
       "\" style=\"fill:#ffffff;\"/>\n",
       "   </g>\n",
       "   <g clip-path=\"url(#pff45f79949)\">\n",
       "    <image height=\"65\" id=\"imagefecbaef123\" transform=\"scale(1 -1)translate(0 -65)\" width=\"98\" x=\"127.152174\" xlink:href=\"data:image/png;base64,\n",
       "iVBORw0KGgoAAAANSUhEUgAAAGIAAABBCAYAAAAqnXGWAAAABHNCSVQICAgIfAhkiAAAAelJREFUeJztnF2OgzAMBt3VHixHy9Fys92HColSKL+Ox+Wbt0pAYg92IFX7MLM/E+H8RE9APJEICBIBQSIg/K4dUNv6RWo5P5G787APT01bJCyeW46fe0feRJxJ/hYkaJ5HbbHvEd8sZript8QYLmLMN0hZ6yhLMaJETMki5kg7n8a2+tQUyTjAaCneaye6Iqb0lOGdeLPXeFKJGLhaSI+kr4FuTR4Qkj5HShG17asKavLHpN1r2prcDBLMMoso1x4XTUoRWZK7h3QijkjIIC6ViAwJPUoaEWcl0CWmEEFP4hWkEHEHJAKCREDAi7hyfSCvNXgRd0EiIEgEBLQIj55OXSewIqgJ8wIpwlsCUTJOBDFJPcB8VdpbwDAe5Ru88IqoJbYKKBUYLkI8CRdBaQ3RhIsQTxAiVBUQEWaSgRERBeUGQImgJCUClAizvjJI4nEizFgJ6gVSxB3p/vPePXhuP5DiNJupCMreixkvWZ7MtibJmKe2arVVl2svrhHRu6IDhDmMqaW6XPfjf3G8TaK5zGF5vNJhjOY/xhZ2iRjo/dNX97Fav7GWOCRizNVBRLWiaBmnRUzZGxBpDej6Vl9eP18uIjtRbVciFvAQ8qn6JQKC9pogSAQEiYAgERAkAoJEQJAICBIB4R8W7m+tXkPMqgAAAABJRU5ErkJggg==\" y=\"-125.510946\"/>\n",
       "   </g>\n",
       "   <g id=\"patch_28\">\n",
       "    <path d=\"M 127.152174 190.510946 \n",
       "L 127.152174 125.815294 \n",
       "\" style=\"fill:none;stroke:#000000;stroke-linecap:square;stroke-linejoin:miter;stroke-width:0.8;\"/>\n",
       "   </g>\n",
       "   <g id=\"patch_29\">\n",
       "    <path d=\"M 224.195652 190.510946 \n",
       "L 224.195652 125.815294 \n",
       "\" style=\"fill:none;stroke:#000000;stroke-linecap:square;stroke-linejoin:miter;stroke-width:0.8;\"/>\n",
       "   </g>\n",
       "   <g id=\"patch_30\">\n",
       "    <path d=\"M 127.152174 190.510946 \n",
       "L 224.195652 190.510946 \n",
       "\" style=\"fill:none;stroke:#000000;stroke-linecap:square;stroke-linejoin:miter;stroke-width:0.8;\"/>\n",
       "   </g>\n",
       "   <g id=\"patch_31\">\n",
       "    <path d=\"M 127.152174 125.815294 \n",
       "L 224.195652 125.815294 \n",
       "\" style=\"fill:none;stroke:#000000;stroke-linecap:square;stroke-linejoin:miter;stroke-width:0.8;\"/>\n",
       "   </g>\n",
       "  </g>\n",
       "  <g id=\"axes_7\">\n",
       "   <g id=\"patch_32\">\n",
       "    <path d=\"M 243.604348 190.510946 \n",
       "L 340.647826 190.510946 \n",
       "L 340.647826 125.815294 \n",
       "L 243.604348 125.815294 \n",
       "z\n",
       "\" style=\"fill:#ffffff;\"/>\n",
       "   </g>\n",
       "   <g clip-path=\"url(#p451d8b57e2)\">\n",
       "    <image height=\"65\" id=\"imagee0e4b632f2\" transform=\"scale(1 -1)translate(0 -65)\" width=\"98\" x=\"243.604348\" xlink:href=\"data:image/png;base64,\n",
       "iVBORw0KGgoAAAANSUhEUgAAAGIAAABBCAYAAAAqnXGWAAAABHNCSVQICAgIfAhkiAAAAO1JREFUeJzt10tqw0AUAMFxyMHfzZ2FwZvEDrFkqSFVW2k+0AzSXNZa18XpPs7eADdCRAgRIUSEELuYzTN8bt/EfzW7znZZfl//YDY+f0yIX82b37/xjXhqDhojxBNz6GpC7G5eGiXEj+bwFYX4Zk4ZK0SEC93dnDreidjFbJ7BhS7CiYgQIkKICCEihIgQIkKICCEihIgQIkKICCEihIgQIkKICCEihIgQIkKICCEihIgQIkKICCEihIgQIkKICCEihIgQIkKICCEihIgQIkKICCEihIgQIkKICCEihIgQIkKICCEihIgQIkKIiC+REAx/xKzwyQAAAABJRU5ErkJggg==\" y=\"-125.510946\"/>\n",
       "   </g>\n",
       "   <g id=\"patch_33\">\n",
       "    <path d=\"M 243.604348 190.510946 \n",
       "L 243.604348 125.815294 \n",
       "\" style=\"fill:none;stroke:#000000;stroke-linecap:square;stroke-linejoin:miter;stroke-width:0.8;\"/>\n",
       "   </g>\n",
       "   <g id=\"patch_34\">\n",
       "    <path d=\"M 340.647826 190.510946 \n",
       "L 340.647826 125.815294 \n",
       "\" style=\"fill:none;stroke:#000000;stroke-linecap:square;stroke-linejoin:miter;stroke-width:0.8;\"/>\n",
       "   </g>\n",
       "   <g id=\"patch_35\">\n",
       "    <path d=\"M 243.604348 190.510946 \n",
       "L 340.647826 190.510946 \n",
       "\" style=\"fill:none;stroke:#000000;stroke-linecap:square;stroke-linejoin:miter;stroke-width:0.8;\"/>\n",
       "   </g>\n",
       "   <g id=\"patch_36\">\n",
       "    <path d=\"M 243.604348 125.815294 \n",
       "L 340.647826 125.815294 \n",
       "\" style=\"fill:none;stroke:#000000;stroke-linecap:square;stroke-linejoin:miter;stroke-width:0.8;\"/>\n",
       "   </g>\n",
       "  </g>\n",
       "  <g id=\"axes_8\">\n",
       "   <g id=\"patch_37\">\n",
       "    <path d=\"M 360.056522 190.510946 \n",
       "L 457.1 190.510946 \n",
       "L 457.1 125.815294 \n",
       "L 360.056522 125.815294 \n",
       "z\n",
       "\" style=\"fill:#ffffff;\"/>\n",
       "   </g>\n",
       "   <g clip-path=\"url(#p62737b1a3f)\">\n",
       "    <image height=\"65\" id=\"image475afed9b1\" transform=\"scale(1 -1)translate(0 -65)\" width=\"98\" x=\"360.056522\" xlink:href=\"data:image/png;base64,\n",
       "iVBORw0KGgoAAAANSUhEUgAAAGIAAABBCAYAAAAqnXGWAAAABHNCSVQICAgIfAhkiAAAAd5JREFUeJztm22OgjAURa+TWViX1qWxM/wxQ4JCBaEf97b3JCQosZR3fH0V6gPADNOcn9YdMH9YBAkWQYJFkGARJPy27sARcVrth1a9KM8DDaav6+B+/dmQqxdcVBVxR8CmrZCvLQaqiMgp4KXdUKbdFhStEaUE9EixWVNpCT1lA1AgI5wF18gmwgLucVlEy8D3NiwBX4rwt74cp0QwCegxG4CDWVOcuCQAFWZjhdtPkcwINgFr4pQ3Mxiulf6m3x0YAnyW3VscKheQyooc/a9dizY1QkVCCtX+Sz8Yeg+6qgRAXUT4/FoJWRHJ+pB4nx3JYn022Fevo4VMqenrtwFSyo7doYnxAhj7lBOJGtG7BODgmXXrWjGCgAXajBhJAnByFUftzBhNAnAyI2oGZkQJwIV1TSWzY1QJwM0FZl65l4+sK/2uiBldwELxJZd7cuIU/3diyVPLMVffYqx/Tv6teQcsHJhpf9DdZhn2RIa/PkW8B19ARn8iBIK+R38iRBlDhECW9CdCIOh79CcCeJUhIqbJ33vNlj4zQhCpVRwbQvx8fDo4ToS2iBRCAhb0a8Q6KwQFLOiL6AQXaxIsggSLIMEiSLAIEiyCBIsgwSJIsAgSLIIEiyDBIkiwCBKe2ikkxGodILkAAAAASUVORK5CYII=\" y=\"-125.510946\"/>\n",
       "   </g>\n",
       "   <g id=\"patch_38\">\n",
       "    <path d=\"M 360.056522 190.510946 \n",
       "L 360.056522 125.815294 \n",
       "\" style=\"fill:none;stroke:#000000;stroke-linecap:square;stroke-linejoin:miter;stroke-width:0.8;\"/>\n",
       "   </g>\n",
       "   <g id=\"patch_39\">\n",
       "    <path d=\"M 457.1 190.510946 \n",
       "L 457.1 125.815294 \n",
       "\" style=\"fill:none;stroke:#000000;stroke-linecap:square;stroke-linejoin:miter;stroke-width:0.8;\"/>\n",
       "   </g>\n",
       "   <g id=\"patch_40\">\n",
       "    <path d=\"M 360.056522 190.510946 \n",
       "L 457.1 190.510946 \n",
       "\" style=\"fill:none;stroke:#000000;stroke-linecap:square;stroke-linejoin:miter;stroke-width:0.8;\"/>\n",
       "   </g>\n",
       "   <g id=\"patch_41\">\n",
       "    <path d=\"M 360.056522 125.815294 \n",
       "L 457.1 125.815294 \n",
       "\" style=\"fill:none;stroke:#000000;stroke-linecap:square;stroke-linejoin:miter;stroke-width:0.8;\"/>\n",
       "   </g>\n",
       "  </g>\n",
       "  <g id=\"axes_9\">\n",
       "   <g id=\"patch_42\">\n",
       "    <path d=\"M 10.7 305.62624 \n",
       "L 107.743478 305.62624 \n",
       "L 107.743478 240.930588 \n",
       "L 10.7 240.930588 \n",
       "z\n",
       "\" style=\"fill:#ffffff;\"/>\n",
       "   </g>\n",
       "   <g clip-path=\"url(#p52199a00a1)\">\n",
       "    <image height=\"65\" id=\"image045d574048\" transform=\"scale(1 -1)translate(0 -65)\" width=\"98\" x=\"10.7\" xlink:href=\"data:image/png;base64,\n",
       "iVBORw0KGgoAAAANSUhEUgAAAGIAAABBCAYAAAAqnXGWAAAABHNCSVQICAgIfAhkiAAAAk1JREFUeJztmtuRgzAMRZWdFOJSKIVSUkpKoRR3wn7smnEUv2BEfIPvmeEHGMfoYFnYuYnIKqQ7P707QP6gCBAoAgSKAIEiQKAIECgCBIoAgSJAoAgQ7lYNeb+8nXNusmr+8piJEBF5qsB7v1BGI0xNIJiOiCOkUpqIXVrT7aOOUDMRzk3i/bKlpzkT4BQ6pVkR9yc+F0CScuqI6P2gKcHxOSQph0To4R4ezurNnv0iD4O2wqjM9evI6D2Lw5P1003bkbuey/8xzk0vgbAMSutb3trXM9k9IlJ5t3Z/K7EEi9L3rL629GvPczs3yU127lnvfbgzqY2es/qZ+90gyFdSYqq9m/fLGjdS49F01xikhOjqsZVNhG5Ms9fyKJRk1IiLheQckWrk6gKsv3tqGUbHuDpZX11AIH7O+b9QyH1n6NRzpKjQ7RdFjCKhxFOV1zVCcFvkxPe8VU1IVVFP5oblmtT1IE6LCHFNXRNRIijBFi2wNLo2EZTQl7vIeBJac/4n16K670d8mlyOLmGxAFljuB263svdOS45IlKTZAB1H/0yIubCx9c3cBc5vlDVm1zwv5Gv+o44Gni9l44o7SU1IY6MK731Jd7mCAQZowQ/JjlZ95AxYvBjilulZ8r4dOBri269KZav8Zq5hZDR3/oS1e8Iy5ocIfhIhYhmHeV4iKz/e/SIR/cOfOwAlrDu/l8TOYfhVl9RoQgQKAIEigCBIkCgCBAoAgSKAIEiQKAIECgCBIoAgSJAoAgQKAIEigCBIkCgCBAoAgSKAOEXbsvfnmoZu3sAAAAASUVORK5CYII=\" y=\"-240.62624\"/>\n",
       "   </g>\n",
       "   <g id=\"patch_43\">\n",
       "    <path d=\"M 10.7 305.62624 \n",
       "L 10.7 240.930588 \n",
       "\" style=\"fill:none;stroke:#000000;stroke-linecap:square;stroke-linejoin:miter;stroke-width:0.8;\"/>\n",
       "   </g>\n",
       "   <g id=\"patch_44\">\n",
       "    <path d=\"M 107.743478 305.62624 \n",
       "L 107.743478 240.930588 \n",
       "\" style=\"fill:none;stroke:#000000;stroke-linecap:square;stroke-linejoin:miter;stroke-width:0.8;\"/>\n",
       "   </g>\n",
       "   <g id=\"patch_45\">\n",
       "    <path d=\"M 10.7 305.62624 \n",
       "L 107.743478 305.62624 \n",
       "\" style=\"fill:none;stroke:#000000;stroke-linecap:square;stroke-linejoin:miter;stroke-width:0.8;\"/>\n",
       "   </g>\n",
       "   <g id=\"patch_46\">\n",
       "    <path d=\"M 10.7 240.930588 \n",
       "L 107.743478 240.930588 \n",
       "\" style=\"fill:none;stroke:#000000;stroke-linecap:square;stroke-linejoin:miter;stroke-width:0.8;\"/>\n",
       "   </g>\n",
       "  </g>\n",
       "  <g id=\"axes_10\">\n",
       "   <g id=\"patch_47\">\n",
       "    <path d=\"M 127.152174 305.62624 \n",
       "L 224.195652 305.62624 \n",
       "L 224.195652 240.930588 \n",
       "L 127.152174 240.930588 \n",
       "z\n",
       "\" style=\"fill:#ffffff;\"/>\n",
       "   </g>\n",
       "   <g clip-path=\"url(#pdd96a7646e)\">\n",
       "    <image height=\"65\" id=\"image28dd007ce5\" transform=\"scale(1 -1)translate(0 -65)\" width=\"98\" x=\"127.152174\" xlink:href=\"data:image/png;base64,\n",
       "iVBORw0KGgoAAAANSUhEUgAAAGIAAABBCAYAAAAqnXGWAAAABHNCSVQICAgIfAhkiAAAAuVJREFUeJztnO2NwyAMht1TB2GUjNJRMkpGYRQ26f2o3PMRvj+CHXik6k5tIIYXG5MIHgDwhsVwfkYbsPiwhGDCEoIJT2P06UultssNmZ3HruOT9UvposqpoMboKQWmAz3U/mdKZYfxVxAzQqkNjNHfOtAwCaJQW2Md6oosiN12F0lClIBe5Lp5qbBXY9t5mO1fdKBtS2lT6JpuQtg3fSkNO/x9d5dQ1WpQdRPCBQ1ROWVcjBQRbWrp2ZcJQY2OTf6uuSW1bA9yQ1AJQ9YRvsYYo7+N3vU5Jo/iMFv3ea2LR9DOsxuwb+HsAeCcpWB9tENS55iaLI3etzdJ64gaXio8L/hGPJaxf7e9JNbBGN589/GlovYayLarNVGPcI1u2rmxjo4RK0s7Ea+NlYl5nE9kLHuYzVtHbOCUEhQCb4qhwhYghRYjKFSHL0SVZGc09MW8mPYDDaWl7U2aI+zsBUcpl8k0BVcHHWaDXft/T4VmeTF882dQiJBxqWGiJS7RQ3NEbdj04Vpx2yLYtqKd9qIWuXRBVwOGgJzr6d8rBowraiCxZ1Hds6ZW7Ftd+ZJV/ZVM82KI+3OtaYTgjgghpGRmNYgQIrTAyoGzoGKyphpaiNgbER7RAs4ZE4AgIXo/KhmNGCHujighJMT6UkQJcWeWEEwQIcRL6eo1AOc1BIAQIZDS50XcnzMBCBJCQmfWIEaIuzONENw9ahohuDOVEJwzp6mE4MwSggnrfQQTpvAIzo+/kSmEkMAUQnDOlpAphJDAEoIJ0wnBNUxNkb76dv9wYjqP4IoYIVqMZKyDY3gSEZpyd5Km1MUNMR5xd6YSgvPLITFC5G7dCtXDkaTtvaOwt9C2wHfGx2iqJuseHeWC7sRsAdqak4mxPotjtMfUknJ8BOJqa0ycnFMKvrtK7W2wOZ3MeRLkhu+EgifA+agH/H/RHm9YNEa/4XMs9foM/DxgnQ3OAjHriLuzhGDCEoIJSwgm/AIoUukKWxyo4QAAAABJRU5ErkJggg==\" y=\"-240.62624\"/>\n",
       "   </g>\n",
       "   <g id=\"patch_48\">\n",
       "    <path d=\"M 127.152174 305.62624 \n",
       "L 127.152174 240.930588 \n",
       "\" style=\"fill:none;stroke:#000000;stroke-linecap:square;stroke-linejoin:miter;stroke-width:0.8;\"/>\n",
       "   </g>\n",
       "   <g id=\"patch_49\">\n",
       "    <path d=\"M 224.195652 305.62624 \n",
       "L 224.195652 240.930588 \n",
       "\" style=\"fill:none;stroke:#000000;stroke-linecap:square;stroke-linejoin:miter;stroke-width:0.8;\"/>\n",
       "   </g>\n",
       "   <g id=\"patch_50\">\n",
       "    <path d=\"M 127.152174 305.62624 \n",
       "L 224.195652 305.62624 \n",
       "\" style=\"fill:none;stroke:#000000;stroke-linecap:square;stroke-linejoin:miter;stroke-width:0.8;\"/>\n",
       "   </g>\n",
       "   <g id=\"patch_51\">\n",
       "    <path d=\"M 127.152174 240.930588 \n",
       "L 224.195652 240.930588 \n",
       "\" style=\"fill:none;stroke:#000000;stroke-linecap:square;stroke-linejoin:miter;stroke-width:0.8;\"/>\n",
       "   </g>\n",
       "  </g>\n",
       "  <g id=\"axes_11\">\n",
       "   <g id=\"patch_52\">\n",
       "    <path d=\"M 243.604348 305.62624 \n",
       "L 340.647826 305.62624 \n",
       "L 340.647826 240.930588 \n",
       "L 243.604348 240.930588 \n",
       "z\n",
       "\" style=\"fill:#ffffff;\"/>\n",
       "   </g>\n",
       "   <g clip-path=\"url(#p0376d9ace0)\">\n",
       "    <image height=\"65\" id=\"imagedfeb5e91e2\" transform=\"scale(1 -1)translate(0 -65)\" width=\"98\" x=\"243.604348\" xlink:href=\"data:image/png;base64,\n",
       "iVBORw0KGgoAAAANSUhEUgAAAGIAAABBCAYAAAAqnXGWAAAABHNCSVQICAgIfAhkiAAAAbpJREFUeJztnX2OgyAQR+mmB+EoHG2P5lG4ifuHa8tu/ZhBCT/je4lpYijaeTAjhqSPEMIYoDtfvW8AJhAhAiJEQIQIiBABESIgQgREiPDsfQNq5Dyc2l+MydTu1iKWgh7j57n6/pO57W1E/A96jMOpQT/KLUTk3CfonmteUoQ3j/cc+dMgSLvtZEWsBdubUjx5+mxyTtct1qUApRzeGtYRjfDMhhDERfRMK0eouW9pEVfGMxtCEKwR5Q+wPB1tjb65xkxpYr8vK0vXPNq/nIhalkbgGa8ryqDHOKzm/qPXkhdhGfFraWA+7w3S3+Db+ogxvRaONTVCWsRenvUE2BMcb34vv/eWYVvIlYwc+0fOwxjC9+/neW3ng6emBkwzI71mhgVENMIrAxGNsdYmRDRkLtaWoo2IxlifnBAhAiJEQIQIiBABESIgQgREiIAIERAhAiJEQIQIiBABESIgQgREiIAIERBhpHaLjRVEiIAIERAhAiJEQMQGOdt36h0FERvU7iavQXo3uAqePay1MCN2KPewtgQRBmYZLUGEEVbWNwERIiBCBESIgAgRECECIkR4BP62QAJmhAg/POTxs/OBP8cAAAAASUVORK5CYII=\" y=\"-240.62624\"/>\n",
       "   </g>\n",
       "   <g id=\"patch_53\">\n",
       "    <path d=\"M 243.604348 305.62624 \n",
       "L 243.604348 240.930588 \n",
       "\" style=\"fill:none;stroke:#000000;stroke-linecap:square;stroke-linejoin:miter;stroke-width:0.8;\"/>\n",
       "   </g>\n",
       "   <g id=\"patch_54\">\n",
       "    <path d=\"M 340.647826 305.62624 \n",
       "L 340.647826 240.930588 \n",
       "\" style=\"fill:none;stroke:#000000;stroke-linecap:square;stroke-linejoin:miter;stroke-width:0.8;\"/>\n",
       "   </g>\n",
       "   <g id=\"patch_55\">\n",
       "    <path d=\"M 243.604348 305.62624 \n",
       "L 340.647826 305.62624 \n",
       "\" style=\"fill:none;stroke:#000000;stroke-linecap:square;stroke-linejoin:miter;stroke-width:0.8;\"/>\n",
       "   </g>\n",
       "   <g id=\"patch_56\">\n",
       "    <path d=\"M 243.604348 240.930588 \n",
       "L 340.647826 240.930588 \n",
       "\" style=\"fill:none;stroke:#000000;stroke-linecap:square;stroke-linejoin:miter;stroke-width:0.8;\"/>\n",
       "   </g>\n",
       "  </g>\n",
       "  <g id=\"axes_12\">\n",
       "   <g id=\"patch_57\">\n",
       "    <path d=\"M 360.056522 305.62624 \n",
       "L 457.1 305.62624 \n",
       "L 457.1 240.930588 \n",
       "L 360.056522 240.930588 \n",
       "z\n",
       "\" style=\"fill:#ffffff;\"/>\n",
       "   </g>\n",
       "   <g clip-path=\"url(#pfab20853e2)\">\n",
       "    <image height=\"65\" id=\"imagee3a3d46ec6\" transform=\"scale(1 -1)translate(0 -65)\" width=\"98\" x=\"360.056522\" xlink:href=\"data:image/png;base64,\n",
       "iVBORw0KGgoAAAANSUhEUgAAAGIAAABBCAYAAAAqnXGWAAAABHNCSVQICAgIfAhkiAAAAg5JREFUeJztnO11gzAMRV84HcSjMEpGyyiMwibtjxYohzgEYknP5t0FDL5I/pK5AfhGEOM4AAAeYx/1CBvuaUBKvXu7X+4t/jGOA5WAaLqIRpklPMZ+jlRP3EUwS5iIkGGamp69DLuEKG4wGqxr+PL38By4TVJTCxK8KZqaGKejtVAsIlqU4LmeKDJGtJiKvBd2H0dEixIiOD1GtJiKIjklQlFQnsOpSRJsOCRCEux4KzVpPLBnNyIkwYeXEaFU5Ec2IiTBl83KWqlo4Z4GAD5bHauIkIQ1nv0wjxFKRbF0gCQw0EkCByFVHDVR9VFpK0yzJg+6lHrXBsVzOuA3/CQjllVqkow4ZhERhbdiYRURSlFxbGZNkrEQXsUhGf5k1xFXl+H97rsLuivL8OSliCvPpLzvSOwWD6TU65zCgbf2mlLqLz9mWHNo008y7DhVDd76GUbEFd9T2+CKjPKcPo+QjLJ8dHVrmlG1kqYiPyzdGMJaQNTaqdj13tpkMHT+f8L+xcEAg4CJYsUDtQ3eTBKAwlUctchgfMbi5TS1yGDDpK5JMo5jVmAmGccwrfRjlBH1q7g9zEsumWSwSgCcal+ZZLDiVoQcLYM5GgDDP5jlsN4KyclmlgAEiADK3NWrtcNzhIiYeCc6WuvwHKEigLWMq3T6M8JFAEuqukKH56AQIXSHjgaJIEEiSJAIEn4AI4Hxf7Eg5MgAAAAASUVORK5CYII=\" y=\"-240.62624\"/>\n",
       "   </g>\n",
       "   <g id=\"patch_58\">\n",
       "    <path d=\"M 360.056522 305.62624 \n",
       "L 360.056522 240.930588 \n",
       "\" style=\"fill:none;stroke:#000000;stroke-linecap:square;stroke-linejoin:miter;stroke-width:0.8;\"/>\n",
       "   </g>\n",
       "   <g id=\"patch_59\">\n",
       "    <path d=\"M 457.1 305.62624 \n",
       "L 457.1 240.930588 \n",
       "\" style=\"fill:none;stroke:#000000;stroke-linecap:square;stroke-linejoin:miter;stroke-width:0.8;\"/>\n",
       "   </g>\n",
       "   <g id=\"patch_60\">\n",
       "    <path d=\"M 360.056522 305.62624 \n",
       "L 457.1 305.62624 \n",
       "\" style=\"fill:none;stroke:#000000;stroke-linecap:square;stroke-linejoin:miter;stroke-width:0.8;\"/>\n",
       "   </g>\n",
       "   <g id=\"patch_61\">\n",
       "    <path d=\"M 360.056522 240.930588 \n",
       "L 457.1 240.930588 \n",
       "\" style=\"fill:none;stroke:#000000;stroke-linecap:square;stroke-linejoin:miter;stroke-width:0.8;\"/>\n",
       "   </g>\n",
       "  </g>\n",
       " </g>\n",
       " <defs>\n",
       "  <clipPath id=\"peb0c2a0a24\">\n",
       "   <rect height=\"64.695652\" width=\"97.043478\" x=\"10.7\" y=\"10.7\"/>\n",
       "  </clipPath>\n",
       "  <clipPath id=\"p48b18758d8\">\n",
       "   <rect height=\"64.695652\" width=\"97.043478\" x=\"127.152174\" y=\"10.7\"/>\n",
       "  </clipPath>\n",
       "  <clipPath id=\"p27664504e7\">\n",
       "   <rect height=\"64.695652\" width=\"97.043478\" x=\"243.604348\" y=\"10.7\"/>\n",
       "  </clipPath>\n",
       "  <clipPath id=\"p309326446a\">\n",
       "   <rect height=\"64.695652\" width=\"97.043478\" x=\"360.056522\" y=\"10.7\"/>\n",
       "  </clipPath>\n",
       "  <clipPath id=\"pc21fb82699\">\n",
       "   <rect height=\"64.695652\" width=\"97.043478\" x=\"10.7\" y=\"125.815294\"/>\n",
       "  </clipPath>\n",
       "  <clipPath id=\"pff45f79949\">\n",
       "   <rect height=\"64.695652\" width=\"97.043478\" x=\"127.152174\" y=\"125.815294\"/>\n",
       "  </clipPath>\n",
       "  <clipPath id=\"p451d8b57e2\">\n",
       "   <rect height=\"64.695652\" width=\"97.043478\" x=\"243.604348\" y=\"125.815294\"/>\n",
       "  </clipPath>\n",
       "  <clipPath id=\"p62737b1a3f\">\n",
       "   <rect height=\"64.695652\" width=\"97.043478\" x=\"360.056522\" y=\"125.815294\"/>\n",
       "  </clipPath>\n",
       "  <clipPath id=\"p52199a00a1\">\n",
       "   <rect height=\"64.695652\" width=\"97.043478\" x=\"10.7\" y=\"240.930588\"/>\n",
       "  </clipPath>\n",
       "  <clipPath id=\"pdd96a7646e\">\n",
       "   <rect height=\"64.695652\" width=\"97.043478\" x=\"127.152174\" y=\"240.930588\"/>\n",
       "  </clipPath>\n",
       "  <clipPath id=\"p0376d9ace0\">\n",
       "   <rect height=\"64.695652\" width=\"97.043478\" x=\"243.604348\" y=\"240.930588\"/>\n",
       "  </clipPath>\n",
       "  <clipPath id=\"pfab20853e2\">\n",
       "   <rect height=\"64.695652\" width=\"97.043478\" x=\"360.056522\" y=\"240.930588\"/>\n",
       "  </clipPath>\n",
       " </defs>\n",
       "</svg>\n"
      ],
      "text/plain": [
       "<Figure size 576x432 with 12 Axes>"
      ]
     },
     "metadata": {
      "needs_background": "light"
     },
     "output_type": "display_data"
    }
   ],
   "source": [
    "test_images, test_labels = gb.read_voc_images(is_train=False)\n",
    "n, imgs = 4, []\n",
    "for i in range(n):\n",
    "    crop_rect = (0, 0, 480, 320)\n",
    "    X = image.fixed_crop(test_images[i], *crop_rect)\n",
    "    pred = label2image(predict(X))\n",
    "    imgs += [X, pred, image.fixed_crop(test_labels[i], *crop_rect)]\n",
    "gb.show_images(imgs[::3] + imgs[1::3] + imgs[2::3], 3, n);"
   ]
  },
  {
   "cell_type": "markdown",
   "metadata": {},
   "source": [
    "## 小结\n",
    "\n",
    "* 我们可以通过矩阵乘法来实现卷积运算。\n",
    "* 全卷积网络先使用卷积神经网络抽取图像特征，然后通过 $1\\times 1$ 卷积层将通道数变换为类别个数，最后通过转置卷积层将特征图的高和宽变换为输入图像的尺寸，从而输出每个像素的类别。\n",
    "* 在全卷积网络中，我们将转置卷积层初始化为双线性插值的上采样。\n",
    "\n",
    "\n",
    "## 练习\n",
    "\n",
    "* 用矩阵乘法来实现卷积运算是否高效？为什么？\n",
    "* 如果将转置卷积层改用 Xavier 随机初始化，结果有什么变化？\n",
    "* 调节超参数，你能进一步提升模型的精度吗？\n",
    "* 预测测试图像中所有像素的类别。\n",
    "* 全卷积网络的论文中还使用了卷积神经网络的某些中间层的输出 [1]。试着实现这个想法。\n",
    "\n",
    "## 扫码直达[讨论区](https://discuss.gluon.ai/t/topic/3041)\n",
    "\n",
    "![](../img/qr_fcn.svg)\n",
    "\n",
    "\n",
    "## 参考文献\n",
    "\n",
    "[1] Long, J., Shelhamer, E., & Darrell, T. (2015). Fully convolutional networks for semantic segmentation. In Proceedings of the IEEE conference on computer vision and pattern recognition (pp. 3431-3440).\n",
    "\n",
    "[2] Dumoulin, V., & Visin, F. (2016). A guide to convolution arithmetic for deep learning. arXiv preprint arXiv:1603.07285."
   ]
  }
 ],
 "metadata": {
  "language_info": {
   "name": "python"
  }
 },
 "nbformat": 4,
 "nbformat_minor": 2
}